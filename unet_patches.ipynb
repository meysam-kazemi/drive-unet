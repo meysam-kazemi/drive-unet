{
  "cells": [
    {
      "cell_type": "markdown",
      "metadata": {
        "id": "view-in-github",
        "colab_type": "text"
      },
      "source": [
        "<a href=\"https://colab.research.google.com/github/meysam-kazemi/drive-unet/blob/testPatches/unet_patches.ipynb\" target=\"_parent\"><img src=\"https://colab.research.google.com/assets/colab-badge.svg\" alt=\"Open In Colab\"/></a>"
      ]
    },
    {
      "cell_type": "code",
      "execution_count": 1,
      "metadata": {
        "colab": {
          "base_uri": "https://localhost:8080/"
        },
        "id": "U_i0GXtOkdtK",
        "outputId": "8fafbe3f-1086-4be9-e84b-41fda341089f"
      },
      "outputs": [
        {
          "output_type": "stream",
          "name": "stdout",
          "text": [
            "Mounted at /content/drive\n"
          ]
        }
      ],
      "source": [
        "from google.colab import drive\n",
        "drive.mount('/content/drive')"
      ]
    },
    {
      "cell_type": "code",
      "execution_count": 2,
      "metadata": {
        "colab": {
          "base_uri": "https://localhost:8080/"
        },
        "id": "YmixHCO7xMAj",
        "outputId": "2e533b6d-ba24-4428-d138-8b1483f3def4"
      },
      "outputs": [
        {
          "output_type": "stream",
          "name": "stdout",
          "text": [
            "/content/drive/.shortcut-targets-by-id/19v_-z68QIom5bSkKsoiETI2xN8cPjPox/RETINAL\n"
          ]
        }
      ],
      "source": [
        "%cd drive/MyDrive/RETINAL/"
      ]
    },
    {
      "cell_type": "code",
      "execution_count": 3,
      "metadata": {
        "colab": {
          "base_uri": "https://localhost:8080/"
        },
        "id": "8Mx0PGIEy9ES",
        "outputId": "5d264636-7dd4-4ef2-e379-2071c4bbf58c"
      },
      "outputs": [
        {
          "output_type": "stream",
          "name": "stdout",
          "text": [
            "augment.ipynb  fr-unet.ipynb          \u001b[0m\u001b[01;34moutputs\u001b[0m/              \u001b[01;34mtraining\u001b[0m/     unet_patches.ipynb\n",
            "\u001b[01;34mdatasets\u001b[0m/      FR-Unet_patches.ipynb  presentation.gslides  training.zip\n",
            "\u001b[01;34mfigs\u001b[0m/          \u001b[01;34mmodels\u001b[0m/                \u001b[01;34mtest\u001b[0m/                 unet-2.ipynb\n",
            "\u001b[01;34mfiles\u001b[0m/         \u001b[01;34mnew_data\u001b[0m/              test.zip              unet.ipynb\n"
          ]
        }
      ],
      "source": [
        "%ls"
      ]
    },
    {
      "cell_type": "code",
      "execution_count": 4,
      "metadata": {
        "id": "rFq894oTxN-o"
      },
      "outputs": [],
      "source": [
        "\n",
        "# Libraries\n",
        "\n",
        "import os\n",
        "import time\n",
        "import random\n",
        "import numpy as np\n",
        "import cv2\n",
        "import torch\n",
        "from torch.utils.data import Dataset\n",
        "import torch.nn as nn\n",
        "import torch.nn.functional as F\n",
        "from glob import glob\n",
        "from torch.utils.data import DataLoader\n",
        "from torch.cuda.amp import GradScaler, autocast\n",
        "import cv2\n",
        "import time\n",
        "from tqdm import tqdm\n",
        "import matplotlib.pyplot as plt"
      ]
    },
    {
      "cell_type": "code",
      "execution_count": 5,
      "metadata": {
        "id": "Bvn8SEgBkwF3"
      },
      "outputs": [],
      "source": [
        "# Utils\n",
        "\n",
        "def add_metric_history(metrics, hist):\n",
        "    for k, _ in hist.items():\n",
        "      hist[k].append(metrics[k])\n",
        "    return hist\n",
        "\n",
        "\n",
        "\"\"\" Seeding the randomness. \"\"\"\n",
        "def seeding(seed):\n",
        "    random.seed(seed)\n",
        "    os.environ[\"PYTHONHASHSEED\"] = str(seed)\n",
        "    np.random.seed(seed)\n",
        "    torch.manual_seed(seed)\n",
        "    torch.cuda.manual_seed(seed)\n",
        "    torch.backends.cudnn.deterministic = True\n",
        "\n",
        "\"\"\" Create a directory. \"\"\"\n",
        "def create_dir(path):\n",
        "    if not os.path.exists(path):\n",
        "        os.makedirs(path)\n",
        "\n",
        "\"\"\" Calculate the time taken \"\"\"\n",
        "def epoch_time(start_time, end_time):\n",
        "    elapsed_time = end_time - start_time\n",
        "    elapsed_mins = int(elapsed_time / 60)\n",
        "    elapsed_secs = int(elapsed_time - (elapsed_mins * 60))\n",
        "    return elapsed_mins, elapsed_secs"
      ]
    },
    {
      "cell_type": "code",
      "execution_count": 6,
      "metadata": {
        "id": "Yy2gyLkpkwKx"
      },
      "outputs": [],
      "source": [
        "# Data\n",
        "\n",
        "class DriveDataset(Dataset):\n",
        "    def __init__(self, images_path, masks_path):\n",
        "\n",
        "        self.images_path = images_path\n",
        "        self.masks_path = masks_path\n",
        "        self.n_samples = len(images_path)\n",
        "\n",
        "    def __getitem__(self, index):\n",
        "        \"\"\" Reading image \"\"\"\n",
        "        image = cv2.imread(self.images_path[index], 0)  # gray scale\n",
        "        image = image/255.0 ## (512, 512)\n",
        "        # image = np.transpose(image, (2, 0, 1))  ## (3, 512, 512)\n",
        "        image = np.expand_dims(image, axis=0)  # (1, 512, 512)\n",
        "        image = image.astype(np.float32)\n",
        "        image = torch.from_numpy(image)\n",
        "\n",
        "        \"\"\" Reading mask \"\"\"\n",
        "        mask = cv2.imread(self.masks_path[index], cv2.IMREAD_GRAYSCALE)\n",
        "        mask = mask/255.0   ## (512, 512)\n",
        "        mask = np.expand_dims(mask, axis=0) ## (1, 512, 512)\n",
        "        mask = (mask > 0.5)*1 # binarize\n",
        "        mask = mask.astype(np.float32)\n",
        "        mask = torch.from_numpy(mask)\n",
        "\n",
        "        return image, mask\n",
        "\n",
        "    def __len__(self):\n",
        "        return self.n_samples"
      ]
    },
    {
      "cell_type": "markdown",
      "metadata": {
        "id": "UKC1yyzloFYp"
      },
      "source": [
        "# Loss"
      ]
    },
    {
      "cell_type": "code",
      "execution_count": 7,
      "metadata": {
        "id": "7mjwc5dTkwPP"
      },
      "outputs": [],
      "source": [
        "# Loss\n",
        "\n",
        "class DiceLoss(nn.Module):\n",
        "    def __init__(self, weight=None, size_average=True):\n",
        "        super(DiceLoss, self).__init__()\n",
        "\n",
        "    def forward(self, inputs, targets, smooth=1):\n",
        "\n",
        "        #comment out if your model contains a sigmoid or equivalent activation layer\n",
        "        inputs = torch.sigmoid(inputs)\n",
        "\n",
        "        #flatten label and prediction tensors\n",
        "        inputs = inputs.view(-1)\n",
        "        targets = targets.view(-1)\n",
        "\n",
        "        intersection = (inputs * targets).sum()\n",
        "        dice = (2.*intersection + smooth)/(inputs.sum() + targets.sum() + smooth)\n",
        "\n",
        "        return 1 - dice\n",
        "\n",
        "class DiceBCELoss(nn.Module):\n",
        "    def __init__(self, weight=None, size_average=True):\n",
        "        super(DiceBCELoss, self).__init__()\n",
        "\n",
        "    def forward(self, inputs, targets, smooth=1):\n",
        "\n",
        "        #comment out if your model contains a sigmoid or equivalent activation layer\n",
        "        # inputs = torch.sigmoid(inputs)\n",
        "\n",
        "        #flatten label and prediction tensors\n",
        "        inputs = inputs.view(-1)\n",
        "        targets = targets.view(-1)\n",
        "\n",
        "        intersection = (inputs * targets).sum()\n",
        "        dice_loss = 1 - (2.*intersection + smooth)/(inputs.sum() + targets.sum() + smooth)\n",
        "        BCE = F.binary_cross_entropy(inputs, targets, reduction='mean')\n",
        "        Dice_BCE = BCE + dice_loss\n",
        "\n",
        "        return Dice_BCE"
      ]
    },
    {
      "cell_type": "markdown",
      "metadata": {
        "id": "S-yh94nLw7f6"
      },
      "source": [
        "## Metrics"
      ]
    },
    {
      "cell_type": "code",
      "execution_count": 8,
      "metadata": {
        "id": "cY2z0sbVxAF-"
      },
      "outputs": [],
      "source": [
        "import numpy as np\n",
        "import torch\n",
        "import cv2\n",
        "from sklearn.metrics import roc_auc_score\n",
        "\n",
        "def get_metrics(predict, target, threshold=None, predict_b=None):\n",
        "    predict = torch.sigmoid(predict).cpu().detach().numpy().flatten()\n",
        "    if predict_b is not None:\n",
        "        predict_b = predict_b.flatten()\n",
        "    else:\n",
        "        predict_b = np.where(predict >= threshold, 1, 0)\n",
        "    if torch.is_tensor(target):\n",
        "        target = target.cpu().detach().numpy().flatten()\n",
        "    else:\n",
        "        target = target.flatten()\n",
        "    tp = (predict_b * target).sum()\n",
        "    tn = ((1 - predict_b) * (1 - target)).sum()\n",
        "    fp = ((1 - target) * predict_b).sum()\n",
        "    fn = ((1 - predict_b) * target).sum()\n",
        "    auc = roc_auc_score(target>0.5, predict)\n",
        "    acc = (tp + tn) / (tp + fp + fn + tn)\n",
        "    pre = tp / (tp + fp)\n",
        "    sen = tp / (tp + fn)\n",
        "    spe = tn / (tn + fp)\n",
        "    iou = tp / (tp + fp + fn)\n",
        "    f1 = 2 * pre * sen / (pre + sen)\n",
        "    return {\n",
        "        \"AUC\": np.round(auc, 4),\n",
        "        \"F1\": np.round(f1, 4),\n",
        "        \"Acc\": np.round(acc, 4),\n",
        "        \"Sen\": np.round(sen, 4),\n",
        "        \"Spe\": np.round(spe, 4),\n",
        "        \"Pre\": np.round(pre, 4),\n",
        "        \"IOU\": np.round(iou, 4),\n",
        "    }\n",
        "\n",
        "\n",
        "def count_connect_component(predict, target, threshold=None, connectivity=8):\n",
        "    if threshold != None:\n",
        "        predict = torch.sigmoid(predict).cpu().detach().numpy()\n",
        "        predict = np.where(predict >= threshold, 1, 0)\n",
        "    if torch.is_tensor(target):\n",
        "        target = target.cpu().detach().numpy()\n",
        "    pre_n, _, _, _ = cv2.connectedComponentsWithStats(np.asarray(\n",
        "        predict, dtype=np.uint8)*255, connectivity=connectivity)\n",
        "    gt_n, _, _, _ = cv2.connectedComponentsWithStats(np.asarray(\n",
        "        target, dtype=np.uint8)*255, connectivity=connectivity)\n",
        "    return pre_n/gt_n"
      ]
    },
    {
      "cell_type": "markdown",
      "metadata": {
        "id": "tXfeQu2C5u67"
      },
      "source": [
        "# Unet"
      ]
    },
    {
      "cell_type": "code",
      "execution_count": 9,
      "metadata": {
        "id": "cj-Jhddj6sAu"
      },
      "outputs": [],
      "source": [
        "import os\n",
        "import numpy as np\n",
        "import torch\n",
        "import torch.nn as nn\n",
        "import torch.optim as optim\n",
        "from torchvision.utils import save_image\n",
        "from torchvision import datasets, transforms\n",
        "from torch.utils.data import DataLoader, random_split"
      ]
    },
    {
      "cell_type": "code",
      "execution_count": 10,
      "metadata": {
        "colab": {
          "base_uri": "https://localhost:8080/"
        },
        "id": "OZqG8dMgkwT3",
        "outputId": "e7bb1049-8724-478a-8129-766349b18514"
      },
      "outputs": [
        {
          "output_type": "stream",
          "name": "stdout",
          "text": [
            "torch.Size([2, 1, 512, 512])\n"
          ]
        }
      ],
      "source": [
        "\n",
        "\n",
        "# Model\n",
        "\n",
        "class conv_block(nn.Module):\n",
        "    def __init__(self, in_c, out_c):\n",
        "        super().__init__()\n",
        "\n",
        "        self.conv1 = nn.Conv2d(in_c, out_c, kernel_size=3, padding=1)\n",
        "        self.bn1 = nn.BatchNorm2d(out_c)\n",
        "\n",
        "        self.conv2 = nn.Conv2d(out_c, out_c, kernel_size=3, padding=1)\n",
        "        self.bn2 = nn.BatchNorm2d(out_c)\n",
        "\n",
        "        self.relu = nn.ReLU()\n",
        "\n",
        "    def forward(self, inputs):\n",
        "        x = self.conv1(inputs)\n",
        "        x = self.bn1(x)\n",
        "        x = self.relu(x)\n",
        "\n",
        "        x = self.conv2(x)\n",
        "        x = self.bn2(x)\n",
        "        x = self.relu(x)\n",
        "\n",
        "        return x\n",
        "\n",
        "class encoder_block(nn.Module):\n",
        "    def __init__(self, in_c, out_c):\n",
        "        super().__init__()\n",
        "\n",
        "        self.conv = conv_block(in_c, out_c)\n",
        "        self.pool = nn.MaxPool2d((2, 2))\n",
        "\n",
        "    def forward(self, inputs):\n",
        "        x = self.conv(inputs)\n",
        "        p = self.pool(x)\n",
        "\n",
        "        return x, p\n",
        "\n",
        "class decoder_block(nn.Module):\n",
        "    def __init__(self, in_c, out_c):\n",
        "        super().__init__()\n",
        "\n",
        "        self.up = nn.ConvTranspose2d(in_c, out_c, kernel_size=2, stride=2, padding=0)\n",
        "        self.conv = conv_block(out_c+out_c, out_c)\n",
        "\n",
        "    def forward(self, inputs, skip):\n",
        "        x = self.up(inputs)\n",
        "        x = torch.cat([x, skip], axis=1)\n",
        "        x = self.conv(x)\n",
        "        return x\n",
        "\n",
        "class build_unet(nn.Module):\n",
        "    def __init__(self):\n",
        "        super().__init__()\n",
        "\n",
        "        \"\"\" Encoder \"\"\"\n",
        "        self.e1 = encoder_block(1, 64)\n",
        "        self.e2 = encoder_block(64, 128)\n",
        "        self.e3 = encoder_block(128, 256)\n",
        "        self.e4 = encoder_block(256, 512)\n",
        "\n",
        "        \"\"\" Bottleneck \"\"\"\n",
        "        self.b = conv_block(512, 1024)\n",
        "\n",
        "        \"\"\" Decoder \"\"\"\n",
        "        self.d1 = decoder_block(1024, 512)\n",
        "        self.d2 = decoder_block(512, 256)\n",
        "        self.d3 = decoder_block(256, 128)\n",
        "        self.d4 = decoder_block(128, 64)\n",
        "\n",
        "        \"\"\" Classifier \"\"\"\n",
        "        self.outputs = nn.Conv2d(64, 1, kernel_size=1, padding=0)\n",
        "\n",
        "    def forward(self, inputs):\n",
        "        \"\"\" Encoder \"\"\"\n",
        "        s1, p1 = self.e1(inputs)\n",
        "        s2, p2 = self.e2(p1)\n",
        "        s3, p3 = self.e3(p2)\n",
        "        s4, p4 = self.e4(p3)\n",
        "\n",
        "        \"\"\" Bottleneck \"\"\"\n",
        "        b = self.b(p4)\n",
        "\n",
        "        \"\"\" Decoder \"\"\"\n",
        "        d1 = self.d1(b, s4)\n",
        "        d2 = self.d2(d1, s3)\n",
        "        d3 = self.d3(d2, s2)\n",
        "        d4 = self.d4(d3, s1)\n",
        "\n",
        "        outputs = self.outputs(d4)\n",
        "\n",
        "        return outputs\n",
        "\n",
        "x = torch.randn((2, 1, 512, 512)).to(0)\n",
        "model = build_unet().to(0)\n",
        "y = model(x)\n",
        "print(y.shape)"
      ]
    },
    {
      "cell_type": "markdown",
      "metadata": {
        "id": "sVBkV-bjwyUo"
      },
      "source": [
        "# Train"
      ]
    },
    {
      "cell_type": "code",
      "source": [
        "\"\"\" Seeding \"\"\"\n",
        "seeding(42)\n",
        "\n",
        "\"\"\" Load dataset \"\"\"\n",
        "train_x = sorted(glob(\"./datasets/DRIVE/patches/train/images/*\"))\n",
        "train_y = sorted(glob(\"./datasets/DRIVE/patches/train/masks/*\"))\n",
        "\n",
        "test_x = sorted(glob(\"./datasets/DRIVE/patches/test/images/*\"))\n",
        "test_y = sorted(glob(\"./datasets/DRIVE/patches/test/masks/*\"))"
      ],
      "metadata": {
        "id": "Y7KCLGpOv20e"
      },
      "execution_count": 11,
      "outputs": []
    },
    {
      "cell_type": "code",
      "execution_count": 20,
      "metadata": {
        "colab": {
          "base_uri": "https://localhost:8080/"
        },
        "id": "svuKq_F47N0U",
        "outputId": "e05b7c01-f14c-4120-f05d-08a12a701c16"
      },
      "outputs": [
        {
          "output_type": "stream",
          "name": "stdout",
          "text": [
            "Dataset Size:\n",
            "  Train: 2\n",
            "  Valid: 1\n",
            "  Test: 1\n"
          ]
        }
      ],
      "source": [
        "\"\"\" Hyperparameters \"\"\"\n",
        "batch_size = 160\n",
        "num_epochs = 40\n",
        "lr = 1e-4\n",
        "\n",
        "\"\"\" Dataset and loader \"\"\"\n",
        "train_dataset = DriveDataset(train_x, train_y)\n",
        "test_dataset = DriveDataset(test_x, test_y)\n",
        "validation_split = 0.5\n",
        "test_size = int((1 - validation_split) * len(test_dataset))\n",
        "valid_size = len(test_dataset) - test_size\n",
        "# split dataset to train and valid\n",
        "test_dataset, valid_dataset = random_split(test_dataset, [test_size, valid_size])\n",
        "\n",
        "\n",
        "train_loader = DataLoader(\n",
        "    dataset=train_dataset,\n",
        "    batch_size=batch_size,\n",
        "    shuffle=True,\n",
        "    # num_workers=2\n",
        ")\n",
        "\n",
        "valid_loader = DataLoader(\n",
        "    dataset=valid_dataset,\n",
        "    batch_size=batch_size,\n",
        "    shuffle=False,\n",
        "    # num_workers=2\n",
        ")\n",
        "\n",
        "test_loader = DataLoader(\n",
        "    dataset=test_dataset,\n",
        "    batch_size=batch_size,\n",
        "    shuffle=False,\n",
        "    # num_workers=2\n",
        ")\n",
        "\n",
        "\n",
        "print(f\"Dataset Size:\\n  Train: {len(train_loader)}\\n  Valid: {len(valid_loader)}\\n  Test: {len(test_loader)}\")"
      ]
    },
    {
      "cell_type": "code",
      "execution_count": 21,
      "metadata": {
        "id": "iNnMgStMZtrz"
      },
      "outputs": [],
      "source": [
        "model = model.to(0)\n",
        "optimizer = torch.optim.Adam(model.parameters(), lr=lr)\n",
        "scheduler = torch.optim.lr_scheduler.ReduceLROnPlateau(optimizer, 'min', patience=5, verbose=True)\n",
        "# loss_fn = DiceBCELoss()\n",
        "loss_fn = DiceLoss()\n",
        "scaler = torch.amp.GradScaler('cuda')"
      ]
    },
    {
      "cell_type": "code",
      "execution_count": null,
      "metadata": {
        "id": "m6PoJ4NX93X6"
      },
      "outputs": [],
      "source": [
        "#  \"\"\"load pre-trained model\"\"\"\n",
        "# checkpoint = torch.load(\"models/unet_model.pth\")\n",
        "# model.load_state_dict(checkpoint['model'])\n",
        "# optimizer.load_state_dict(checkpoint['optimizer'])\n",
        "# scheduler.load_state_dict(checkpoint['scheduler'])\n",
        "# history = checkpoint['history']\n",
        "# init_epoch = history['epoch'][-1]+1\n",
        "# valid_metric_hist = checkpoint['valid_metric_history']\n",
        "# train_metric_hist =checkpoint['train_metric_history']"
      ]
    },
    {
      "cell_type": "code",
      "execution_count": 15,
      "metadata": {
        "id": "zbp6CPSMBjkm"
      },
      "outputs": [],
      "source": [
        "init_epoch = 1"
      ]
    },
    {
      "cell_type": "code",
      "execution_count": 16,
      "metadata": {
        "id": "2cjvzQR6E1YU"
      },
      "outputs": [],
      "source": [
        "create_dir(\"outputs/unet-training/\")"
      ]
    },
    {
      "cell_type": "code",
      "execution_count": null,
      "metadata": {
        "id": "ZMUQZUjOtLWw"
      },
      "outputs": [],
      "source": [
        "# from torch.utils.tensorboard import SummaryWriter\n",
        "# writer = SummaryWriter()"
      ]
    },
    {
      "cell_type": "code",
      "execution_count": null,
      "metadata": {
        "id": "oZc-bGu8M3iX"
      },
      "outputs": [],
      "source": [
        "# \"\"\"load pre-trained model\"\"\"\n",
        "# checkpoint = torch.load(\"models/.pth\")\n",
        "# model.load_state_dict(checkpoint['state_dict'])\n",
        "# optimizer.load_state_dict(checkpoint['optimizer'])\n",
        "# scheduler.load_state_dict(checkpoint['scheduler'])\n",
        "# init_epoch = checkpoint['epoch']"
      ]
    },
    {
      "cell_type": "code",
      "execution_count": 24,
      "metadata": {
        "id": "WIL7ohGDG-N1"
      },
      "outputs": [],
      "source": [
        "# sigm = nn.functional.sigmoid\n",
        "def train(model, loader, optimizer, loss_fn, scale,  amp=True):\n",
        "    epoch_loss = 0.0\n",
        "\n",
        "    model.train()\n",
        "    for x, y in loader:\n",
        "        x = x.to(\"cuda\")\n",
        "        y = y.to(\"cuda\")\n",
        "\n",
        "        optimizer.zero_grad()\n",
        "\n",
        "        if amp:\n",
        "            with torch.amp.autocast('cuda'):  # Enable mixed precision\n",
        "                outputs = model(x)\n",
        "                loss = loss_fn(outputs, y)\n",
        "\n",
        "            scaler.scale(loss).backward()  # Scale the loss and backpropagate\n",
        "            scaler.step(optimizer)  # Step the optimizer\n",
        "            scaler.update()  # Update the scaler\n",
        "        else:\n",
        "            outputs = model(x)\n",
        "            loss = loss_fn(outputs, y)\n",
        "            loss.backward()\n",
        "            optimizer.step()\n",
        "\n",
        "\n",
        "        epoch_loss += loss.item()\n",
        "\n",
        "    epoch_loss = epoch_loss/len(loader)\n",
        "    return x,y, outputs, epoch_loss\n",
        "\n",
        "def evaluate(model, loader, loss_fn, amp=False):\n",
        "    epoch_loss = 0.0\n",
        "\n",
        "    model.eval()\n",
        "    with torch.no_grad():\n",
        "        for x, y in loader:\n",
        "            x = x.to(\"cuda\", torch.float16)\n",
        "            y = y.to(\"cuda\", torch.float16)\n",
        "            if amp:\n",
        "                with torch.amp.autocast('cuda'):  # Enable mixed precision\n",
        "                    outputs = model(x)\n",
        "                    loss = loss_fn(outputs, y)\n",
        "\n",
        "            else:\n",
        "                outputs = model(x)\n",
        "                loss = loss_fn(outputs, y)\n",
        "\n",
        "\n",
        "\n",
        "            epoch_loss += loss.item()\n",
        "\n",
        "        epoch_loss = epoch_loss/(len(loader))\n",
        "    return x,y, outputs, epoch_loss"
      ]
    },
    {
      "cell_type": "code",
      "execution_count": 25,
      "metadata": {
        "id": "Hd6XoZ6mxmz6"
      },
      "outputs": [],
      "source": [
        "torch.cuda.empty_cache()"
      ]
    },
    {
      "cell_type": "code",
      "source": [
        "init_epoch = epoch\n",
        "num_epochs = 60"
      ],
      "metadata": {
        "id": "Mr4cVenBre28"
      },
      "execution_count": 29,
      "outputs": []
    },
    {
      "cell_type": "code",
      "execution_count": 30,
      "metadata": {
        "colab": {
          "base_uri": "https://localhost:8080/"
        },
        "id": "yQZ3ucXa7N0W",
        "outputId": "0aca93d9-f422-45bf-9ea0-5ae43596a08a"
      },
      "outputs": [
        {
          "output_type": "stream",
          "name": "stdout",
          "text": [
            "Epoch [40/60] | Train Loss: 0.5946 | Valid Loss: 0.6293 | Time : 7.54 s\n",
            "\u001b[33mValid loss improved\u001b[00m\n",
            "Epoch [41/60] | Train Loss: 0.5929 | Valid Loss: 0.6287 | Time : 7.94 s\n",
            "\u001b[33mValid loss improved\u001b[00m\n",
            "Epoch [42/60] | Train Loss: 0.5902 | Valid Loss: 0.6279 | Time : 8.13 s\n",
            "\u001b[33mValid loss improved\u001b[00m\n",
            "Epoch [43/60] | Train Loss: 0.5904 | Valid Loss: 0.6277 | Time : 8.14 s\n",
            "\u001b[33mValid loss improved\u001b[00m\n",
            "Epoch [44/60] | Train Loss: 0.5907 | Valid Loss: 0.6267 | Time : 7.86 s\n",
            "\u001b[33mValid loss improved\u001b[00m\n",
            "Epoch [45/60] | Train Loss: 0.5879 | Valid Loss: 0.6266 | Time : 7.6 s\n",
            "\u001b[33mValid loss improved\u001b[00m\n",
            "Epoch [46/60] | Train Loss: 0.5849 | Valid Loss: 0.6283 | Time : 7.65 s\n",
            "Epoch [47/60] | Train Loss: 0.5829 | Valid Loss: 0.6267 | Time : 7.38 s\n",
            "Epoch [48/60] | Train Loss: 0.5842 | Valid Loss: 0.6288 | Time : 7.45 s\n",
            "Epoch [49/60] | Train Loss: 0.5797 | Valid Loss: 0.6234 | Time : 7.54 s\n",
            "\u001b[33mValid loss improved\u001b[00m\n",
            "Epoch [50/60] | Train Loss: 0.5783 | Valid Loss: 0.6232 | Time : 7.67 s\n",
            "\u001b[33mValid loss improved\u001b[00m\n",
            "Epoch [51/60] | Train Loss: 0.5772 | Valid Loss: 0.6211 | Time : 8.76 s\n",
            "\u001b[33mValid loss improved\u001b[00m\n",
            "Epoch [52/60] | Train Loss: 0.5774 | Valid Loss: 0.6216 | Time : 7.98 s\n",
            "Epoch [53/60] | Train Loss: 0.5735 | Valid Loss: 0.6230 | Time : 7.11 s\n",
            "Epoch [54/60] | Train Loss: 0.5719 | Valid Loss: 0.6206 | Time : 7.19 s\n",
            "\u001b[33mValid loss improved\u001b[00m\n",
            "Epoch [55/60] | Train Loss: 0.5694 | Valid Loss: 0.6205 | Time : 7.78 s\n",
            "\u001b[33mValid loss improved\u001b[00m\n",
            "Epoch [56/60] | Train Loss: 0.5674 | Valid Loss: 0.6190 | Time : 7.9 s\n",
            "\u001b[33mValid loss improved\u001b[00m\n",
            "Epoch [57/60] | Train Loss: 0.5663 | Valid Loss: 0.6190 | Time : 7.71 s\n",
            "Epoch [58/60] | Train Loss: 0.5641 | Valid Loss: 0.6151 | Time : 7.36 s\n",
            "\u001b[33mValid loss improved\u001b[00m\n",
            "Epoch [59/60] | Train Loss: 0.5626 | Valid Loss: 0.6144 | Time : 7.58 s\n",
            "\u001b[33mValid loss improved\u001b[00m\n",
            "Epoch [60/60] | Train Loss: 0.5608 | Valid Loss: 0.6148 | Time : 7.87 s\n"
          ]
        }
      ],
      "source": [
        "\"\"\" Training the model \"\"\"\n",
        "best_valid_loss = float(\"inf\")\n",
        "# history = {'epoch': [], 'train_loss': [], 'valid_loss': [], \"time\": []}\n",
        "# train_metric_hist = {'AUC':[],'F1':[],'Acc':[],'Sen':[],'Spe':[],'Pre':[],'IOU':[]}\n",
        "# valid_metric_hist = {'AUC':[],'F1':[],'Acc':[],'Sen':[],'Spe':[],'Pre':[],'IOU':[]}\n",
        "\n",
        "for epoch in range(init_epoch, num_epochs+1):\n",
        "    start_time = time.time()\n",
        "\n",
        "    x_tr, y_tr, outputs_tr, train_loss = train(model, train_loader, optimizer, loss_fn, scaler, True)\n",
        "    x_val, y_val, outputs_val, valid_loss = evaluate(model, valid_loader, loss_fn, amp=True)\n",
        "    # History\n",
        "    history['train_loss'].append(train_loss)\n",
        "    history['valid_loss'].append(valid_loss)\n",
        "    history['epoch'].append(epoch)\n",
        "    ep_time = round(time.time()-start_time, 2)\n",
        "    history['time'].append(ep_time)\n",
        "\n",
        "    # metrics\n",
        "    metric_train = get_metrics(predict=outputs_tr, target=y_tr,threshold=0.5)\n",
        "    metric_valid = get_metrics(predict=outputs_val, target=y_val, threshold=0.5)\n",
        "\n",
        "    train_metric_hist = add_metric_history(metric_train, train_metric_hist)\n",
        "    valid_metric_hist = add_metric_history(metric_valid, valid_metric_hist)\n",
        "\n",
        "    print(f'Epoch [{epoch}/{num_epochs}] | Train Loss: {train_loss:.4f} | Valid Loss: {valid_loss:.4f} | Time : {ep_time} s')\n",
        "\n",
        "    # Save the model and images every 10 epochs\n",
        "    if (epoch) % 10 == 0:\n",
        "        state = {\n",
        "        'history': history,\n",
        "        'train_metric_history': train_metric_hist,\n",
        "        'valid_metric_history': valid_metric_hist,\n",
        "        'model': model.state_dict(),\n",
        "        'optimizer': optimizer.state_dict(),\n",
        "        'scheduler': scheduler.state_dict(),\n",
        "        'epoch' : epoch\n",
        "        }\n",
        "        torch.save(state, f\"models/unet_model_patches-60-epochs.pth\")\n",
        "\n",
        "        # Save 9 image results\n",
        "        folder_path = f'outputs/unet-training/results/epoch{epoch}/'\n",
        "        create_dir(folder_path)\n",
        "        save_image(x_val.cpu(), folder_path+'images.png', nrow=2, normalize=True)\n",
        "        save_image(y_val.cpu(), folder_path+'original_masks.png', nrow=2, normalize=True)\n",
        "        save_image(outputs_val.cpu(), folder_path+'outputs.png', nrow=2, normalize=True)\n",
        "\n",
        "    \"\"\" Saving the model \"\"\"\n",
        "    if valid_loss < best_valid_loss:\n",
        "        data_str = \"\\033[33mValid loss improved\\033[00m\"\n",
        "        print(data_str)\n",
        "\n",
        "        best_valid_loss = valid_loss\n",
        "        torch.save(model.state_dict(), \"models/best-unet-40-epoch.pth\")"
      ]
    },
    {
      "cell_type": "markdown",
      "metadata": {
        "id": "U_QU_kG92VRZ"
      },
      "source": [
        "## test"
      ]
    },
    {
      "cell_type": "code",
      "execution_count": 27,
      "metadata": {
        "colab": {
          "base_uri": "https://localhost:8080/",
          "height": 1000
        },
        "id": "A3LnC4CdsjwM",
        "outputId": "ecfcfa16-9db4-42f3-a4a3-4d7d82ebba4d"
      },
      "outputs": [
        {
          "output_type": "display_data",
          "data": {
            "text/plain": [
              "<Figure size 1000x2800 with 7 Axes>"
            ],
            "image/png": "[encoded data removed]"
          },
          "metadata": {}
        }
      ],
      "source": [
        "fig, axs = plt.subplots(7,1, figsize=(10,28))\n",
        "for i, (k,v) in enumerate(train_metric_hist.items()):\n",
        "  axs[i].plot(v, c='green', label=\"Triain\")\n",
        "for i, (k,v) in enumerate(valid_metric_hist.items()):\n",
        "  axs[i].plot(v, c='orange', label=\"Valid\")\n",
        "  axs[i].set_title(k)\n",
        "  axs[i].legend()\n"
      ]
    },
    {
      "cell_type": "code",
      "source": [
        "fig2 = plt.figure()\n",
        "plt.plot(history['train_loss'])\n",
        "plt.plot(history['valid_loss'])\n",
        "plt.title('model loss')\n",
        "plt.ylabel('loss')\n",
        "plt.xlabel('epoch')\n",
        "plt.legend(['train', 'valid'], loc='upper left')"
      ],
      "metadata": {
        "colab": {
          "base_uri": "https://localhost:8080/",
          "height": 490
        },
        "id": "tWqvLV_KBAOS",
        "outputId": "ac1afc82-3d2b-42c9-8bf7-0d7837cf6fc7"
      },
      "execution_count": null,
      "outputs": [
        {
          "output_type": "execute_result",
          "data": {
            "text/plain": [
              "<matplotlib.legend.Legend at 0x78f5127d85e0>"
            ]
          },
          "metadata": {},
          "execution_count": 41
        },
        {
          "output_type": "display_data",
          "data": {
            "text/plain": [
              "<Figure size 640x480 with 1 Axes>"
            ],
            "image/png": "[encoded data removed]"
          },
          "metadata": {}
        }
      ]
    },
    {
      "cell_type": "code",
      "source": [
        "# prompt: save fig2\n",
        "\n",
        "fig2.savefig('loss_plot.png')\n"
      ],
      "metadata": {
        "id": "AppOmiWSBAH_"
      },
      "execution_count": null,
      "outputs": []
    },
    {
      "cell_type": "code",
      "source": [],
      "metadata": {
        "id": "lhYva9P-BABK"
      },
      "execution_count": null,
      "outputs": []
    },
    {
      "cell_type": "code",
      "execution_count": null,
      "metadata": {
        "id": "I9A2MwDKdLfD"
      },
      "outputs": [],
      "source": [
        "create_dir(\"figs\")\n",
        "fig2.savefig('figs/unet-patches-200-epoch-losses.png')"
      ]
    },
    {
      "cell_type": "code",
      "execution_count": null,
      "metadata": {
        "id": "eivuYagBcogB",
        "colab": {
          "base_uri": "https://localhost:8080/",
          "height": 447
        },
        "outputId": "8ba97571-ec3d-4bf7-ec00-7c2411c35125"
      },
      "outputs": [
        {
          "output_type": "execute_result",
          "data": {
            "text/plain": [
              "[<matplotlib.lines.Line2D at 0x7af6651b7f40>]"
            ]
          },
          "metadata": {},
          "execution_count": 19
        },
        {
          "output_type": "display_data",
          "data": {
            "text/plain": [
              "<Figure size 640x480 with 1 Axes>"
            ],
            "image/png": "[encoded data removed]"
          },
          "metadata": {}
        }
      ],
      "source": [
        "plt.plot(history['train_loss'])"
      ]
    },
    {
      "cell_type": "code",
      "execution_count": null,
      "metadata": {
        "id": "OCR0t295901E"
      },
      "outputs": [],
      "source": [
        "# Load pre-trained Model\n",
        "checkpoint = torch.load(\"models/unet-last-epoch80.pth\")\n",
        "model.load_state_dict(checkpoint['state_dict'])"
      ]
    },
    {
      "cell_type": "code",
      "execution_count": null,
      "metadata": {
        "id": "rBrkenQ290uR"
      },
      "outputs": [],
      "source": [
        "def evaluate(model, loader, loss_fn, device):\n",
        "    epoch_loss = 0.0\n",
        "\n",
        "    model.eval()\n",
        "    with torch.no_grad():\n",
        "        for x, y in (loader):\n",
        "            x = x.to(device, dtype=torch.float32)\n",
        "            y = y.to(device, dtype=torch.float32)\n",
        "\n",
        "            y_pred = model(x)\n",
        "            loss = loss_fn(y_pred, y)\n",
        "            epoch_loss += loss.item()\n",
        "\n",
        "        epoch_loss = epoch_loss/(len(loader))\n",
        "    return epoch_loss\n"
      ]
    },
    {
      "cell_type": "code",
      "execution_count": null,
      "metadata": {
        "id": "eMYTHQ0J90iI"
      },
      "outputs": [],
      "source": [
        "\"\"\" Seeding \"\"\"\n",
        "seeding(42)\n",
        "\n",
        "\"\"\" Directories \"\"\"\n",
        "create_dir(\"files\")\n",
        "\n",
        "\"\"\" Load dataset \"\"\"\n",
        "train_x = sorted(glob(\"./new_data/train/image/*\"))\n",
        "train_y = sorted(glob(\"./new_data/train/mask/*\"))\n",
        "\n",
        "valid_x = sorted(glob(\"./new_data/test/image/*\"))\n",
        "valid_y = sorted(glob(\"./new_data/test/mask/*\"))\n",
        "\n",
        "data_str = f\"Dataset Size:\\nTrain: {len(train_x)} - Valid: {len(valid_x)}\\n\"\n",
        "print(data_str)\n",
        "\n",
        "\"\"\" Hyperparameters \"\"\"\n",
        "H = 512\n",
        "W = 512\n",
        "size = (H, W)\n",
        "batch_size = 4\n",
        "num_epochs = 150\n",
        "lr = 1e-4\n"
      ]
    },
    {
      "cell_type": "code",
      "execution_count": null,
      "metadata": {
        "id": "t1OiYTdp-wnW"
      },
      "outputs": [],
      "source": [
        "\"\"\" Dataset and loader \"\"\"\n",
        "train_dataset = DriveDataset(train_x, train_y)\n",
        "valid_dataset = DriveDataset(valid_x, valid_y)\n",
        "\n",
        "train_loader = DataLoader(\n",
        "    dataset=train_dataset,\n",
        "    batch_size=batch_size,\n",
        "    shuffle=True,\n",
        "    num_workers=2\n",
        ")\n",
        "\n",
        "valid_loader = DataLoader(\n",
        "    dataset=valid_dataset,\n",
        "    batch_size=batch_size,\n",
        "    shuffle=False,\n",
        "    num_workers=2\n",
        ")\n",
        "\n",
        "device = torch.device('cuda')\n",
        "model = build_unet()\n",
        "model = model.to(device)\n",
        "\n",
        "optimizer = torch.optim.Adam(model.parameters(), lr=lr)\n",
        "scheduler = torch.optim.lr_scheduler.ReduceLROnPlateau(optimizer, 'min', patience=5, verbose=True)\n",
        "loss_fn = DiceBCELoss()\n"
      ]
    },
    {
      "cell_type": "code",
      "execution_count": null,
      "metadata": {
        "id": "uSk5Pab1-wz_"
      },
      "outputs": [],
      "source": [
        "eval_loss = evaluate(model, train_loader, loss_fn, device)\n",
        "print(f\"evaluation loss for new train data : {eval_loss}\")"
      ]
    },
    {
      "cell_type": "code",
      "execution_count": null,
      "metadata": {
        "id": "rQrNkPMJBz5A"
      },
      "outputs": [],
      "source": []
    },
    {
      "cell_type": "code",
      "execution_count": null,
      "metadata": {
        "id": "7PSIOEuyB0_T"
      },
      "outputs": [],
      "source": [
        "create_dir(\"./outputs/\")\n",
        "create_dir(\"./outputs/unet\")\n",
        "create_dir(\"./outputs/unet/image\")\n",
        "create_dir(\"./outputs/unet/result\")"
      ]
    },
    {
      "cell_type": "code",
      "execution_count": null,
      "metadata": {
        "id": "cD6uQd7R-w6Q"
      },
      "outputs": [],
      "source": [
        "i = 0\n",
        "\n",
        "model.eval()\n",
        "with torch.no_grad():\n",
        "    for x, _ in train_loader:\n",
        "      if i== 20:\n",
        "        break\n",
        "      for j in range(4):\n",
        "        cv2.imwrite(f\"outputs/unet/image/{i}-{j}.png\", np.array(x[j]).transpose([1,2,0]))\n",
        "      x = x.to(device, dtype=torch.float32)\n",
        "      y_pred = model(x)\n",
        "      for j in range(4):\n",
        "        a = y_pred[j].to('cpu').squeeze()\n",
        "        a = (a-a.min())/(a.max()-a.min())\n",
        "        a = (a > 0.5)\n",
        "        a = np.array(a*255, dtype=\"uint8\")\n",
        "        cv2.imwrite(f\"outputs/unet/result/{i}-{j}.png\", a)\n",
        "\n",
        "      i += 1"
      ]
    },
    {
      "cell_type": "code",
      "execution_count": null,
      "metadata": {
        "id": "mtCsUxvA52Oy"
      },
      "outputs": [],
      "source": [
        "plt.imshow(a,'gray',\n",
        "           vmax=255,vmin=0)"
      ]
    },
    {
      "cell_type": "code",
      "execution_count": null,
      "metadata": {
        "id": "0x_sdtFe-w_k"
      },
      "outputs": [],
      "source": [
        "def mask_parse(mask):\n",
        "  mask = np.expand_dims(mask, axis=-1)    ## (512, 512, 1)\n",
        "  mask = np.concatenate([mask, mask, mask], axis=-1)  ## (512, 512, 3)\n",
        "  return mask\n",
        "\n",
        "def renorm(mask):\n",
        "  mn = mask.min()\n",
        "  mx = mask.max()\n",
        "  mask = 255*(mask-mn)/(mx-mn)\n",
        "  return mask\n",
        "\n",
        "time_taken = []\n",
        "model.eval()\n",
        "for i, x  in enumerate(train_x):\n",
        "  if i==20:\n",
        "    break\n",
        "\n",
        "  \"\"\" Extract the name \"\"\"\n",
        "  name = x.split(\"/\")[-1].split(\".\")[0]\n",
        "\n",
        "  \"\"\" Reading image \"\"\"\n",
        "  image = cv2.imread(x, cv2.IMREAD_COLOR) ## (512, 512, 3)\n",
        "  cv2.imwrite(f\"./outputs/unet/image/{i}.png\", image)\n",
        "  ## image = cv2.resize(image, size)\n",
        "  x = np.transpose(image, (2, 0, 1))      ## (3, 512, 512)\n",
        "  x = x/255.0\n",
        "  x = np.expand_dims(x, axis=0)           ## (1, 3, 512, 512)\n",
        "  x = x.astype(np.float32)\n",
        "  x = torch.from_numpy(x)\n",
        "  x = x.to(device)\n",
        "\n",
        "  with torch.no_grad():\n",
        "      \"\"\" Prediction and Calculating FPS \"\"\"\n",
        "      start_time = time.time()\n",
        "      pred_y = model(x)\n",
        "      # pred_y = torch.sigmoid(pred_y)\n",
        "      total_time = time.time() - start_time\n",
        "      time_taken.append(total_time)\n",
        "\n",
        "      pred_y = pred_y[0].cpu().numpy()        ## (1, 512, 512)\n",
        "      pred_y = np.squeeze(pred_y, axis=0)     ## (512, 512)\n",
        "      print(\"1:\", pred_y.min(), pred_y.max())\n",
        "      pred_y = renorm(pred_y)\n",
        "      pred_y = pred_y > 0.5\n",
        "      pred_y = np.array(pred_y*255, dtype=np.uint8)\n",
        "      print('2: ', pred_y.min(), pred_y.max())\n",
        "\n",
        "  \"\"\" Saving masks \"\"\"\n",
        "  pred_y = mask_parse(pred_y)\n",
        "\n",
        "  cv2.imwrite(f\"outputs/unet/result/{i}.png\", pred_y)\n",
        "\n",
        "print(\"mean time: \", np.mean(time_taken))"
      ]
    },
    {
      "cell_type": "code",
      "execution_count": null,
      "metadata": {
        "id": "U8959bHV-xEB"
      },
      "outputs": [],
      "source": []
    },
    {
      "cell_type": "code",
      "execution_count": null,
      "metadata": {
        "id": "e-LwSIiy-xIq"
      },
      "outputs": [],
      "source": []
    },
    {
      "cell_type": "code",
      "execution_count": null,
      "metadata": {
        "id": "i6-Do88K-xM7"
      },
      "outputs": [],
      "source": []
    },
    {
      "cell_type": "code",
      "execution_count": null,
      "metadata": {
        "id": "TM0U-mC3-xRf"
      },
      "outputs": [],
      "source": []
    },
    {
      "cell_type": "markdown",
      "metadata": {
        "id": "NinVl7M2-xVs"
      },
      "source": [
        "## Train"
      ]
    },
    {
      "cell_type": "code",
      "execution_count": null,
      "metadata": {
        "id": "SQkx2ixg-xan"
      },
      "outputs": [],
      "source": [
        "# Train\n",
        "\n",
        "def train(model, loader, optimizer, loss_fn, device):\n",
        "    epoch_loss = 0.0\n",
        "\n",
        "    model.train()\n",
        "    for x, y in loader:\n",
        "        x = x.to(device, dtype=torch.float32)\n",
        "        y = y.to(device, dtype=torch.float32)\n",
        "\n",
        "        optimizer.zero_grad()\n",
        "        y_pred = model(x)\n",
        "        loss = loss_fn(y_pred, y)\n",
        "        loss.backward()\n",
        "        optimizer.step()\n",
        "        epoch_loss += loss.item()\n",
        "\n",
        "    epoch_loss = epoch_loss/len(loader)\n",
        "    return epoch_loss\n",
        "\n",
        "def evaluate(model, loader, loss_fn, device):\n",
        "    epoch_loss = 0.0\n",
        "\n",
        "    model.eval()\n",
        "    with torch.no_grad():\n",
        "        for x, y in loader:\n",
        "            x = x.to(device, dtype=torch.float32)\n",
        "            y = y.to(device, dtype=torch.float32)\n",
        "\n",
        "            y_pred = model(x)\n",
        "            loss = loss_fn(y_pred, y)\n",
        "            epoch_loss += loss.item()\n",
        "\n",
        "        epoch_loss = epoch_loss/(len(loader)+1e-5)\n",
        "    return epoch_loss\n",
        "\n",
        "\n",
        "\"\"\" Seeding \"\"\"\n",
        "seeding(42)\n",
        "\n",
        "\"\"\" Directories \"\"\"\n",
        "create_dir(\"files\")\n",
        "\n",
        "\"\"\" Load dataset \"\"\"\n",
        "train_x = sorted(glob(\"./new_data/train/image/*\"))\n",
        "train_y = sorted(glob(\"./new_data/train/mask/*\"))\n",
        "\n",
        "valid_x = sorted(glob(\"./new_data/test/image/*\"))\n",
        "valid_y = sorted(glob(\"./new_data/test/mask/*\"))\n",
        "\n",
        "data_str = f\"Dataset Size:\\nTrain: {len(train_x)} - Valid: {len(valid_x)}\\n\"\n",
        "print(data_str)\n",
        "\n",
        "\"\"\" Hyperparameters \"\"\"\n",
        "H = 512\n",
        "W = 512\n",
        "size = (H, W)\n",
        "batch_size = 4\n",
        "num_epochs = 150\n",
        "lr = 1e-4\n",
        "checkpoint_path = \"models/unet.pth\"\n",
        "\n",
        "\"\"\" Dataset and loader \"\"\"\n",
        "train_dataset = DriveDataset(train_x, train_y)\n",
        "valid_dataset = DriveDataset(valid_x, valid_y)\n",
        "\n",
        "train_loader = DataLoader(\n",
        "    dataset=train_dataset,\n",
        "    batch_size=batch_size,\n",
        "    shuffle=True,\n",
        "    num_workers=2\n",
        ")\n",
        "\n",
        "valid_loader = DataLoader(\n",
        "    dataset=valid_dataset,\n",
        "    batch_size=batch_size,\n",
        "    shuffle=False,\n",
        "    num_workers=2\n",
        ")\n",
        "\n",
        "device = torch.device('cuda')\n",
        "model = build_unet()\n",
        "model = model.to(device)\n",
        "\n",
        "optimizer = torch.optim.Adam(model.parameters(), lr=lr)\n",
        "scheduler = torch.optim.lr_scheduler.ReduceLROnPlateau(optimizer, 'min', patience=5, verbose=True)\n",
        "loss_fn = DiceBCELoss()\n",
        "\n",
        "\"\"\"load pre-trained model\"\"\"\n",
        "checkpoint = torch.load(\"models/unet-last-epoch.pth\")\n",
        "model.load_state_dict(checkpoint['state_dict'])\n",
        "optimizer.load_state_dict(checkpoint['optimizer'])\n",
        "scheduler.load_state_dict(checkpoint['scheduler'])\n",
        "init_epoch = checkpoint['epoch']"
      ]
    },
    {
      "cell_type": "code",
      "execution_count": null,
      "metadata": {
        "id": "yJkOMBUGkwYY"
      },
      "outputs": [],
      "source": [
        "\"\"\" Training the model \"\"\"\n",
        "best_valid_loss = float(\"inf\")\n",
        "\n",
        "for epoch in range(init_epoch+1, num_epochs):\n",
        "    start_time = time.time()\n",
        "\n",
        "    train_loss = train(model, train_loader, optimizer, loss_fn, device)\n",
        "    # valid_loss = evaluate(model, valid_loader, loss_fn, device)\n",
        "\n",
        "    \"\"\" Saving the model \"\"\"\n",
        "    if train_loss < best_valid_loss:\n",
        "        data_str = f\"Valid loss improved from {best_valid_loss:2.4f} to {train_loss:2.4f}. Saving checkpoint: {checkpoint_path}\"\n",
        "        print(data_str)\n",
        "\n",
        "        best_valid_loss = train_loss\n",
        "        torch.save(model.state_dict(), checkpoint_path)\n",
        "\n",
        "    state = {\n",
        "    'epoch': epoch,\n",
        "    'state_dict': model.state_dict(),\n",
        "    'optimizer': optimizer.state_dict(),\n",
        "    'scheduler': scheduler.state_dict()\n",
        "    }\n",
        "\n",
        "    torch.save(state, \"models/unet-second-train-last-epoch.pth\")\n",
        "    end_time = time.time()\n",
        "    epoch_mins, epoch_secs = epoch_time(start_time, end_time)\n",
        "\n",
        "    data_str = f'Epoch: {epoch+1:02} | Epoch Time: {epoch_mins}m {epoch_secs}s\\n'\n",
        "    data_str += f'\\tTrain Loss: {train_loss:.3f}\\n'\n",
        "    # data_str += f'\\t Val. Loss: {valid_loss:.3f}\\n'\n",
        "    print(data_str)"
      ]
    },
    {
      "cell_type": "code",
      "execution_count": null,
      "metadata": {
        "id": "uu8MPRU31xpx"
      },
      "outputs": [],
      "source": [
        "torch.cuda.empty_cache()"
      ]
    },
    {
      "cell_type": "code",
      "execution_count": null,
      "metadata": {
        "id": "rER6yBMFGsV8"
      },
      "outputs": [],
      "source": []
    },
    {
      "cell_type": "code",
      "execution_count": null,
      "metadata": {
        "id": "Wyiaa0wwkwcn"
      },
      "outputs": [],
      "source": [
        "# Test\n",
        "\n",
        "import os, time\n",
        "from operator import add\n",
        "import numpy as np\n",
        "from glob import glob\n",
        "import cv2\n",
        "from tqdm import tqdm\n",
        "import imageio\n",
        "import torch\n",
        "from sklearn.metrics import accuracy_score, f1_score, jaccard_score, precision_score, recall_score\n",
        "\n",
        "from model import build_unet\n",
        "from utils import create_dir, seeding\n",
        "\n",
        "def calculate_metrics(y_true, y_pred):\n",
        "    \"\"\" Ground truth \"\"\"\n",
        "    y_true = y_true.cpu().numpy()\n",
        "    y_true = y_true > 0.5\n",
        "    y_true = y_true.astype(np.uint8)\n",
        "    y_true = y_true.reshape(-1)\n",
        "\n",
        "    \"\"\" Prediction \"\"\"\n",
        "    y_pred = y_pred.cpu().numpy()\n",
        "    y_pred = y_pred > 0.5\n",
        "    y_pred = y_pred.astype(np.uint8)\n",
        "    y_pred = y_pred.reshape(-1)\n",
        "\n",
        "    score_jaccard = jaccard_score(y_true, y_pred)\n",
        "    score_f1 = f1_score(y_true, y_pred)\n",
        "    score_recall = recall_score(y_true, y_pred)\n",
        "    score_precision = precision_score(y_true, y_pred)\n",
        "    score_acc = accuracy_score(y_true, y_pred)\n",
        "\n",
        "    return [score_jaccard, score_f1, score_recall, score_precision, score_acc]\n",
        "\n",
        "def mask_parse(mask):\n",
        "    mask = np.expand_dims(mask, axis=-1)    ## (512, 512, 1)\n",
        "    mask = np.concatenate([mask, mask, mask], axis=-1)  ## (512, 512, 3)\n",
        "    return mask\n",
        "\n",
        "if __name__ == \"__main__\":\n",
        "    \"\"\" Seeding \"\"\"\n",
        "    seeding(42)\n",
        "\n",
        "    \"\"\" Folders \"\"\"\n",
        "    create_dir(\"results\")\n",
        "\n",
        "    \"\"\" Load dataset \"\"\"\n",
        "    test_x = sorted(glob(\"../new_data/test/image/*\"))\n",
        "    test_y = sorted(glob(\"../new_data/test/mask/*\"))\n",
        "\n",
        "    \"\"\" Hyperparameters \"\"\"\n",
        "    H = 512\n",
        "    W = 512\n",
        "    size = (W, H)\n",
        "    checkpoint_path = \"files/checkpoint.pth\"\n",
        "\n",
        "    \"\"\" Load the checkpoint \"\"\"\n",
        "    device = torch.device('cuda' if torch.cuda.is_available() else 'cpu')\n",
        "\n",
        "    model = build_unet()\n",
        "    model = model.to(device)\n",
        "    model.load_state_dict(torch.load(checkpoint_path, map_location=device))\n",
        "    model.eval()\n",
        "\n",
        "    metrics_score = [0.0, 0.0, 0.0, 0.0, 0.0]\n",
        "    time_taken = []\n",
        "\n",
        "    for i, (x, y) in tqdm(enumerate(zip(test_x, test_y)), total=len(test_x)):\n",
        "        \"\"\" Extract the name \"\"\"\n",
        "        name = x.split(\"/\")[-1].split(\".\")[0]\n",
        "\n",
        "        \"\"\" Reading image \"\"\"\n",
        "        image = cv2.imread(x, cv2.IMREAD_COLOR) ## (512, 512, 3)\n",
        "        ## image = cv2.resize(image, size)\n",
        "        x = np.transpose(image, (2, 0, 1))      ## (3, 512, 512)\n",
        "        x = x/255.0\n",
        "        x = np.expand_dims(x, axis=0)           ## (1, 3, 512, 512)\n",
        "        x = x.astype(np.float32)\n",
        "        x = torch.from_numpy(x)\n",
        "        x = x.to(device)\n",
        "\n",
        "        \"\"\" Reading mask \"\"\"\n",
        "        mask = cv2.imread(y, cv2.IMREAD_GRAYSCALE)  ## (512, 512)\n",
        "        ## mask = cv2.resize(mask, size)\n",
        "        y = np.expand_dims(mask, axis=0)            ## (1, 512, 512)\n",
        "        y = y/255.0\n",
        "        y = np.expand_dims(y, axis=0)               ## (1, 1, 512, 512)\n",
        "        y = y.astype(np.float32)\n",
        "        y = torch.from_numpy(y)\n",
        "        y = y.to(device)\n",
        "\n",
        "        with torch.no_grad():\n",
        "            \"\"\" Prediction and Calculating FPS \"\"\"\n",
        "            start_time = time.time()\n",
        "            pred_y = model(x)\n",
        "            pred_y = torch.sigmoid(pred_y)\n",
        "            total_time = time.time() - start_time\n",
        "            time_taken.append(total_time)\n",
        "\n",
        "\n",
        "            score = calculate_metrics(y, pred_y)\n",
        "            metrics_score = list(map(add, metrics_score, score))\n",
        "            pred_y = pred_y[0].cpu().numpy()        ## (1, 512, 512)\n",
        "            pred_y = np.squeeze(pred_y, axis=0)     ## (512, 512)\n",
        "            pred_y = pred_y > 0.5\n",
        "            pred_y = np.array(pred_y, dtype=np.uint8)\n",
        "\n",
        "        \"\"\" Saving masks \"\"\"\n",
        "        ori_mask = mask_parse(mask)\n",
        "        pred_y = mask_parse(pred_y)\n",
        "        line = np.ones((size[1], 10, 3)) * 128\n",
        "\n",
        "        cat_images = np.concatenate(\n",
        "            [image, line, ori_mask, line, pred_y * 255], axis=1\n",
        "        )\n",
        "        cv2.imwrite(f\"results/{name}.png\", cat_images)\n",
        "\n",
        "    jaccard = metrics_score[0]/len(test_x)\n",
        "    f1 = metrics_score[1]/len(test_x)\n",
        "    recall = metrics_score[2]/len(test_x)\n",
        "    precision = metrics_score[3]/len(test_x)\n",
        "    acc = metrics_score[4]/len(test_x)\n",
        "    print(f\"Jaccard: {jaccard:1.4f} - F1: {f1:1.4f} - Recall: {recall:1.4f} - Precision: {precision:1.4f} - Acc: {acc:1.4f}\")\n",
        "\n",
        "    fps = 1/np.mean(time_taken)\n",
        "    print(\"FPS: \", fps)"
      ]
    },
    {
      "cell_type": "markdown",
      "source": [
        "# load checkpoint"
      ],
      "metadata": {
        "id": "39xkuZEQbtsv"
      }
    },
    {
      "cell_type": "code",
      "source": [
        "model = model.to(0)\n",
        "lr = 1e-4\n",
        "optimizer = torch.optim.Adam(model.parameters(), lr=lr)\n",
        "scheduler = torch.optim.lr_scheduler.ReduceLROnPlateau(optimizer, 'min', patience=5)\n",
        "# loss_fn = DiceBCELoss()\n",
        "loss_fn = DiceLoss()\n",
        "scaler = torch.amp.GradScaler('cuda')"
      ],
      "metadata": {
        "id": "rBsKGiFdccXP"
      },
      "execution_count": null,
      "outputs": []
    },
    {
      "cell_type": "code",
      "source": [
        "\"\"\"load pre-trained model\"\"\"\n",
        "checkpoint = torch.load(\"models/unet_model_patches.pth\")\n",
        "model.load_state_dict(checkpoint['model'])\n",
        "optimizer.load_state_dict(checkpoint['optimizer'])\n",
        "scheduler.load_state_dict(checkpoint['scheduler'])\n",
        "init_epoch = checkpoint['epoch']\n",
        "valid_metric_hist = checkpoint['valid_metric_history']\n",
        "train_metric_hist = checkpoint['train_metric_history']\n",
        "history = checkpoint['history']"
      ],
      "metadata": {
        "colab": {
          "base_uri": "https://localhost:8080/"
        },
        "id": "10Mv1n0xbtly",
        "outputId": "2326bdc0-14ac-4c36-99b9-ea6ddeea6c1d"
      },
      "execution_count": null,
      "outputs": [
        {
          "output_type": "stream",
          "name": "stderr",
          "text": [
            "<ipython-input-46-5e096fd30b45>:2: FutureWarning: You are using `torch.load` with `weights_only=False` (the current default value), which uses the default pickle module implicitly. It is possible to construct malicious pickle data which will execute arbitrary code during unpickling (See https://github.com/pytorch/pytorch/blob/main/SECURITY.md#untrusted-models for more details). In a future release, the default value for `weights_only` will be flipped to `True`. This limits the functions that could be executed during unpickling. Arbitrary objects will no longer be allowed to be loaded via this mode unless they are explicitly allowlisted by the user via `torch.serialization.add_safe_globals`. We recommend you start setting `weights_only=True` for any use case where you don't have full control of the loaded file. Please open an issue on GitHub for any issues related to this experimental feature.\n",
            "  checkpoint = torch.load(\"models/unet_model_patches.pth\")\n"
          ]
        }
      ]
    },
    {
      "cell_type": "markdown",
      "source": [
        "# Fine-tune"
      ],
      "metadata": {
        "id": "-KscK4_Ga9kv"
      }
    },
    {
      "cell_type": "code",
      "source": [
        "\"\"\" Seeding \"\"\"\n",
        "seeding(42)\n",
        "\n",
        "\"\"\" Load dataset \"\"\"\n",
        "train_x = sorted(glob(\"./datasets/DRIVE/train-png/images/*\"))\n",
        "train_y = sorted(glob(\"./datasets/DRIVE/train-png/masks/*\"))\n",
        "\n",
        "test_x = sorted(glob(\"./datasets/DRIVE/test-png/images/*\"))\n",
        "test_y = sorted(glob(\"./datasets/DRIVE/test-png/masks/*\"))"
      ],
      "metadata": {
        "id": "Wpdti5W3bEXz"
      },
      "execution_count": null,
      "outputs": []
    },
    {
      "cell_type": "code",
      "source": [
        "\"\"\" Hyperparameters \"\"\"\n",
        "batch_size = 8\n",
        "num_epochs = 250\n",
        "\n",
        "\"\"\" Dataset and loader \"\"\"\n",
        "train_dataset = DriveDataset(train_x, train_y)\n",
        "test_dataset = DriveDataset(test_x, test_y)\n",
        "validation_split = 0.5\n",
        "test_size = int((1 - validation_split) * len(test_dataset))\n",
        "valid_size = len(test_dataset) - test_size\n",
        "# split dataset to train and valid\n",
        "test_dataset, valid_dataset = random_split(test_dataset, [test_size, valid_size])\n",
        "\n",
        "\n",
        "train_loader = DataLoader(\n",
        "    dataset=train_dataset,\n",
        "    batch_size=batch_size,\n",
        "    shuffle=True,\n",
        "    num_workers=2\n",
        ")\n",
        "\n",
        "valid_loader = DataLoader(\n",
        "    dataset=valid_dataset,\n",
        "    batch_size=batch_size,\n",
        "    shuffle=False,\n",
        "    num_workers=2\n",
        ")\n",
        "\n",
        "test_loader = DataLoader(\n",
        "    dataset=test_dataset,\n",
        "    batch_size=batch_size,\n",
        "    shuffle=False,\n",
        "    num_workers=2\n",
        ")\n",
        "\n",
        "\n",
        "print(f\"Dataset Size:\\n  Train: {len(train_loader)}\\n  Valid: {len(valid_loader)}\\n  Test: {len(test_loader)}\")"
      ],
      "metadata": {
        "colab": {
          "base_uri": "https://localhost:8080/"
        },
        "id": "8ihOUc3ObEm-",
        "outputId": "b20bf24b-c6bd-4bbf-cd56-abcb561f574e"
      },
      "execution_count": null,
      "outputs": [
        {
          "output_type": "stream",
          "name": "stdout",
          "text": [
            "Dataset Size:\n",
            "  Train: 3\n",
            "  Valid: 2\n",
            "  Test: 2\n"
          ]
        }
      ]
    },
    {
      "cell_type": "code",
      "source": [
        "# sigm = nn.functional.sigmoid\n",
        "def train(model, loader, optimizer, loss_fn, scale,  amp=True):\n",
        "    epoch_loss = 0.0\n",
        "\n",
        "    model.train()\n",
        "    for x, y in loader:\n",
        "        x = x.to(\"cuda\")\n",
        "        y = y.to(\"cuda\")\n",
        "\n",
        "        optimizer.zero_grad()\n",
        "\n",
        "        if amp:\n",
        "            with torch.cuda.amp.autocast():  # Enable mixed precision\n",
        "                outputs = model(x)\n",
        "                loss = loss_fn(outputs, y)\n",
        "\n",
        "            scaler.scale(loss).backward()  # Scale the loss and backpropagate\n",
        "            scaler.step(optimizer)  # Step the optimizer\n",
        "            scaler.update()  # Update the scaler\n",
        "        else:\n",
        "            outputs = model(x)\n",
        "            loss = loss_fn(outputs, y)\n",
        "            loss.backward()\n",
        "            optimizer.step()\n",
        "\n",
        "\n",
        "        epoch_loss += loss.item()\n",
        "\n",
        "    epoch_loss = epoch_loss/len(loader)\n",
        "    return x,y, outputs, epoch_loss\n",
        "\n",
        "def evaluate(model, loader, loss_fn, amp=False):\n",
        "    epoch_loss = 0.0\n",
        "\n",
        "    model.eval()\n",
        "    with torch.no_grad():\n",
        "        for x, y in loader:\n",
        "            x = x.to(\"cuda\", torch.float16)\n",
        "            y = y.to(\"cuda\", torch.float16)\n",
        "            if amp:\n",
        "                with torch.cuda.amp.autocast():  # Enable mixed precision\n",
        "                    outputs = model(x)\n",
        "                    loss = loss_fn(outputs, y)\n",
        "\n",
        "            else:\n",
        "                outputs = model(x)\n",
        "                loss = loss_fn(outputs, y)\n",
        "\n",
        "\n",
        "\n",
        "            epoch_loss += loss.item()\n",
        "\n",
        "        epoch_loss = epoch_loss/(len(loader))\n",
        "    return x,y, outputs, epoch_loss"
      ],
      "metadata": {
        "id": "sWNezIqsbErX"
      },
      "execution_count": null,
      "outputs": []
    },
    {
      "cell_type": "code",
      "source": [
        "\"\"\" Training the model \"\"\"\n",
        "best_valid_loss = float(\"inf\")\n",
        "\n",
        "for epoch in range(init_epoch, num_epochs+1):\n",
        "    start_time = time.time()\n",
        "\n",
        "    x_tr, y_tr, outputs_tr, train_loss = train(model, train_loader, optimizer, loss_fn, scaler, True)\n",
        "    x_val, y_val, outputs_val, valid_loss = evaluate(model, valid_loader, loss_fn, amp=True)\n",
        "    # History\n",
        "    history['train_loss'].append(train_loss)\n",
        "    history['valid_loss'].append(valid_loss)\n",
        "    history['epoch'].append(epoch)\n",
        "    ep_time = round(time.time()-start_time, 2)\n",
        "    history['time'].append(ep_time)\n",
        "\n",
        "    # metrics\n",
        "    metric_train = get_metrics(predict=outputs_tr, target=y_tr,threshold=0.5)\n",
        "    metric_valid = get_metrics(predict=outputs_val, target=y_val, threshold=0.5)\n",
        "\n",
        "    train_metric_hist = add_metric_history(metric_train, train_metric_hist)\n",
        "    valid_metric_hist = add_metric_history(metric_valid, valid_metric_hist)\n",
        "\n",
        "    print(f'Epoch [{epoch}/{num_epochs}] | Train Loss: {train_loss:.4f} | Valid Loss: {valid_loss:.4f} | Time : {ep_time} s')\n",
        "\n",
        "    # Save the model and images every 10 epochs\n",
        "    if (epoch) % 10 == 0:\n",
        "        state = {\n",
        "        'history': history,\n",
        "        'train_metric_history': train_metric_hist,\n",
        "        'valid_metric_history': valid_metric_hist,\n",
        "        'model': model.state_dict(),\n",
        "        'optimizer': optimizer.state_dict(),\n",
        "        'scheduler': scheduler.state_dict(),\n",
        "        'epoch' : epoch\n",
        "        }\n",
        "        torch.save(state, f\"models/unet_model_patches-finetune.pth\")\n",
        "\n",
        "        # Save 9 image results\n",
        "        folder_path = f'outputs/unet-training/results/epoch{epoch}/'\n",
        "        create_dir(folder_path)\n",
        "        save_image(x_val.cpu(), folder_path+'images.png', nrow=2, normalize=True)\n",
        "        save_image(y_val.cpu(), folder_path+'original_masks.png', nrow=2, normalize=True)\n",
        "        save_image(outputs_val.cpu(), folder_path+'outputs.png', nrow=2, normalize=True)\n",
        "\n",
        "    \"\"\" Saving the model \"\"\"\n",
        "    if valid_loss < best_valid_loss:\n",
        "        data_str = \"\\033[33mValid loss improved\\033[00m\"\n",
        "        print(data_str)\n",
        "\n",
        "        best_valid_loss = valid_loss\n",
        "        torch.save(model.state_dict(), \"models/best-unet-finetune.pth\")"
      ],
      "metadata": {
        "colab": {
          "base_uri": "https://localhost:8080/"
        },
        "id": "YcE95a3Oei69",
        "outputId": "8ec97f8d-9502-4e1f-c201-7f875d76f60f"
      },
      "execution_count": null,
      "outputs": [
        {
          "output_type": "stream",
          "name": "stderr",
          "text": [
            "<ipython-input-18-89221ecb2cf0>:13: FutureWarning: `torch.cuda.amp.autocast(args...)` is deprecated. Please use `torch.amp.autocast('cuda', args...)` instead.\n",
            "  with torch.cuda.amp.autocast():  # Enable mixed precision\n",
            "<ipython-input-18-89221ecb2cf0>:41: FutureWarning: `torch.cuda.amp.autocast(args...)` is deprecated. Please use `torch.amp.autocast('cuda', args...)` instead.\n",
            "  with torch.cuda.amp.autocast():  # Enable mixed precision\n"
          ]
        },
        {
          "output_type": "stream",
          "name": "stdout",
          "text": [
            "Epoch [200/250] | Train Loss: 0.4278 | Valid Loss: 0.5184 | Time : 12.78 s\n",
            "\u001b[33mValid loss improved\u001b[00m\n"
          ]
        },
        {
          "output_type": "stream",
          "name": "stderr",
          "text": [
            "<ipython-input-18-89221ecb2cf0>:13: FutureWarning: `torch.cuda.amp.autocast(args...)` is deprecated. Please use `torch.amp.autocast('cuda', args...)` instead.\n",
            "  with torch.cuda.amp.autocast():  # Enable mixed precision\n",
            "<ipython-input-18-89221ecb2cf0>:41: FutureWarning: `torch.cuda.amp.autocast(args...)` is deprecated. Please use `torch.amp.autocast('cuda', args...)` instead.\n",
            "  with torch.cuda.amp.autocast():  # Enable mixed precision\n"
          ]
        },
        {
          "output_type": "stream",
          "name": "stdout",
          "text": [
            "Epoch [201/250] | Train Loss: 0.4229 | Valid Loss: 0.5010 | Time : 4.1 s\n",
            "\u001b[33mValid loss improved\u001b[00m\n"
          ]
        },
        {
          "output_type": "stream",
          "name": "stderr",
          "text": [
            "<ipython-input-18-89221ecb2cf0>:13: FutureWarning: `torch.cuda.amp.autocast(args...)` is deprecated. Please use `torch.amp.autocast('cuda', args...)` instead.\n",
            "  with torch.cuda.amp.autocast():  # Enable mixed precision\n",
            "<ipython-input-18-89221ecb2cf0>:41: FutureWarning: `torch.cuda.amp.autocast(args...)` is deprecated. Please use `torch.amp.autocast('cuda', args...)` instead.\n",
            "  with torch.cuda.amp.autocast():  # Enable mixed precision\n"
          ]
        },
        {
          "output_type": "stream",
          "name": "stdout",
          "text": [
            "Epoch [202/250] | Train Loss: 0.4215 | Valid Loss: 0.4979 | Time : 3.81 s\n",
            "\u001b[33mValid loss improved\u001b[00m\n"
          ]
        },
        {
          "output_type": "stream",
          "name": "stderr",
          "text": [
            "<ipython-input-18-89221ecb2cf0>:13: FutureWarning: `torch.cuda.amp.autocast(args...)` is deprecated. Please use `torch.amp.autocast('cuda', args...)` instead.\n",
            "  with torch.cuda.amp.autocast():  # Enable mixed precision\n",
            "<ipython-input-18-89221ecb2cf0>:41: FutureWarning: `torch.cuda.amp.autocast(args...)` is deprecated. Please use `torch.amp.autocast('cuda', args...)` instead.\n",
            "  with torch.cuda.amp.autocast():  # Enable mixed precision\n"
          ]
        },
        {
          "output_type": "stream",
          "name": "stdout",
          "text": [
            "Epoch [203/250] | Train Loss: 0.4195 | Valid Loss: 0.4973 | Time : 3.97 s\n",
            "\u001b[33mValid loss improved\u001b[00m\n"
          ]
        },
        {
          "output_type": "stream",
          "name": "stderr",
          "text": [
            "<ipython-input-18-89221ecb2cf0>:13: FutureWarning: `torch.cuda.amp.autocast(args...)` is deprecated. Please use `torch.amp.autocast('cuda', args...)` instead.\n",
            "  with torch.cuda.amp.autocast():  # Enable mixed precision\n",
            "<ipython-input-18-89221ecb2cf0>:41: FutureWarning: `torch.cuda.amp.autocast(args...)` is deprecated. Please use `torch.amp.autocast('cuda', args...)` instead.\n",
            "  with torch.cuda.amp.autocast():  # Enable mixed precision\n"
          ]
        },
        {
          "output_type": "stream",
          "name": "stdout",
          "text": [
            "Epoch [204/250] | Train Loss: 0.4069 | Valid Loss: 0.4943 | Time : 3.98 s\n",
            "\u001b[33mValid loss improved\u001b[00m\n"
          ]
        },
        {
          "output_type": "stream",
          "name": "stderr",
          "text": [
            "<ipython-input-18-89221ecb2cf0>:13: FutureWarning: `torch.cuda.amp.autocast(args...)` is deprecated. Please use `torch.amp.autocast('cuda', args...)` instead.\n",
            "  with torch.cuda.amp.autocast():  # Enable mixed precision\n",
            "<ipython-input-18-89221ecb2cf0>:41: FutureWarning: `torch.cuda.amp.autocast(args...)` is deprecated. Please use `torch.amp.autocast('cuda', args...)` instead.\n",
            "  with torch.cuda.amp.autocast():  # Enable mixed precision\n"
          ]
        },
        {
          "output_type": "stream",
          "name": "stdout",
          "text": [
            "Epoch [205/250] | Train Loss: 0.4034 | Valid Loss: 0.4882 | Time : 3.78 s\n",
            "\u001b[33mValid loss improved\u001b[00m\n"
          ]
        },
        {
          "output_type": "stream",
          "name": "stderr",
          "text": [
            "<ipython-input-18-89221ecb2cf0>:13: FutureWarning: `torch.cuda.amp.autocast(args...)` is deprecated. Please use `torch.amp.autocast('cuda', args...)` instead.\n",
            "  with torch.cuda.amp.autocast():  # Enable mixed precision\n",
            "<ipython-input-18-89221ecb2cf0>:41: FutureWarning: `torch.cuda.amp.autocast(args...)` is deprecated. Please use `torch.amp.autocast('cuda', args...)` instead.\n",
            "  with torch.cuda.amp.autocast():  # Enable mixed precision\n"
          ]
        },
        {
          "output_type": "stream",
          "name": "stdout",
          "text": [
            "Epoch [206/250] | Train Loss: 0.3972 | Valid Loss: 0.4904 | Time : 4.09 s\n"
          ]
        },
        {
          "output_type": "stream",
          "name": "stderr",
          "text": [
            "<ipython-input-18-89221ecb2cf0>:13: FutureWarning: `torch.cuda.amp.autocast(args...)` is deprecated. Please use `torch.amp.autocast('cuda', args...)` instead.\n",
            "  with torch.cuda.amp.autocast():  # Enable mixed precision\n",
            "<ipython-input-18-89221ecb2cf0>:41: FutureWarning: `torch.cuda.amp.autocast(args...)` is deprecated. Please use `torch.amp.autocast('cuda', args...)` instead.\n",
            "  with torch.cuda.amp.autocast():  # Enable mixed precision\n"
          ]
        },
        {
          "output_type": "stream",
          "name": "stdout",
          "text": [
            "Epoch [207/250] | Train Loss: 0.3895 | Valid Loss: 0.4882 | Time : 3.34 s\n"
          ]
        },
        {
          "output_type": "stream",
          "name": "stderr",
          "text": [
            "<ipython-input-18-89221ecb2cf0>:13: FutureWarning: `torch.cuda.amp.autocast(args...)` is deprecated. Please use `torch.amp.autocast('cuda', args...)` instead.\n",
            "  with torch.cuda.amp.autocast():  # Enable mixed precision\n",
            "<ipython-input-18-89221ecb2cf0>:41: FutureWarning: `torch.cuda.amp.autocast(args...)` is deprecated. Please use `torch.amp.autocast('cuda', args...)` instead.\n",
            "  with torch.cuda.amp.autocast():  # Enable mixed precision\n"
          ]
        },
        {
          "output_type": "stream",
          "name": "stdout",
          "text": [
            "Epoch [208/250] | Train Loss: 0.3840 | Valid Loss: 0.4853 | Time : 3.34 s\n",
            "\u001b[33mValid loss improved\u001b[00m\n"
          ]
        },
        {
          "output_type": "stream",
          "name": "stderr",
          "text": [
            "<ipython-input-18-89221ecb2cf0>:13: FutureWarning: `torch.cuda.amp.autocast(args...)` is deprecated. Please use `torch.amp.autocast('cuda', args...)` instead.\n",
            "  with torch.cuda.amp.autocast():  # Enable mixed precision\n",
            "<ipython-input-18-89221ecb2cf0>:41: FutureWarning: `torch.cuda.amp.autocast(args...)` is deprecated. Please use `torch.amp.autocast('cuda', args...)` instead.\n",
            "  with torch.cuda.amp.autocast():  # Enable mixed precision\n"
          ]
        },
        {
          "output_type": "stream",
          "name": "stdout",
          "text": [
            "Epoch [209/250] | Train Loss: 0.3899 | Valid Loss: 0.4848 | Time : 3.51 s\n",
            "\u001b[33mValid loss improved\u001b[00m\n"
          ]
        },
        {
          "output_type": "stream",
          "name": "stderr",
          "text": [
            "<ipython-input-18-89221ecb2cf0>:13: FutureWarning: `torch.cuda.amp.autocast(args...)` is deprecated. Please use `torch.amp.autocast('cuda', args...)` instead.\n",
            "  with torch.cuda.amp.autocast():  # Enable mixed precision\n",
            "<ipython-input-18-89221ecb2cf0>:41: FutureWarning: `torch.cuda.amp.autocast(args...)` is deprecated. Please use `torch.amp.autocast('cuda', args...)` instead.\n",
            "  with torch.cuda.amp.autocast():  # Enable mixed precision\n"
          ]
        },
        {
          "output_type": "stream",
          "name": "stdout",
          "text": [
            "Epoch [210/250] | Train Loss: 0.3814 | Valid Loss: 0.4922 | Time : 3.76 s\n"
          ]
        },
        {
          "output_type": "stream",
          "name": "stderr",
          "text": [
            "<ipython-input-18-89221ecb2cf0>:13: FutureWarning: `torch.cuda.amp.autocast(args...)` is deprecated. Please use `torch.amp.autocast('cuda', args...)` instead.\n",
            "  with torch.cuda.amp.autocast():  # Enable mixed precision\n",
            "<ipython-input-18-89221ecb2cf0>:41: FutureWarning: `torch.cuda.amp.autocast(args...)` is deprecated. Please use `torch.amp.autocast('cuda', args...)` instead.\n",
            "  with torch.cuda.amp.autocast():  # Enable mixed precision\n"
          ]
        },
        {
          "output_type": "stream",
          "name": "stdout",
          "text": [
            "Epoch [211/250] | Train Loss: 0.3746 | Valid Loss: 0.4827 | Time : 3.54 s\n",
            "\u001b[33mValid loss improved\u001b[00m\n"
          ]
        },
        {
          "output_type": "stream",
          "name": "stderr",
          "text": [
            "<ipython-input-18-89221ecb2cf0>:13: FutureWarning: `torch.cuda.amp.autocast(args...)` is deprecated. Please use `torch.amp.autocast('cuda', args...)` instead.\n",
            "  with torch.cuda.amp.autocast():  # Enable mixed precision\n",
            "<ipython-input-18-89221ecb2cf0>:41: FutureWarning: `torch.cuda.amp.autocast(args...)` is deprecated. Please use `torch.amp.autocast('cuda', args...)` instead.\n",
            "  with torch.cuda.amp.autocast():  # Enable mixed precision\n"
          ]
        },
        {
          "output_type": "stream",
          "name": "stdout",
          "text": [
            "Epoch [212/250] | Train Loss: 0.3748 | Valid Loss: 0.4884 | Time : 3.57 s\n"
          ]
        },
        {
          "output_type": "stream",
          "name": "stderr",
          "text": [
            "<ipython-input-18-89221ecb2cf0>:13: FutureWarning: `torch.cuda.amp.autocast(args...)` is deprecated. Please use `torch.amp.autocast('cuda', args...)` instead.\n",
            "  with torch.cuda.amp.autocast():  # Enable mixed precision\n",
            "<ipython-input-18-89221ecb2cf0>:41: FutureWarning: `torch.cuda.amp.autocast(args...)` is deprecated. Please use `torch.amp.autocast('cuda', args...)` instead.\n",
            "  with torch.cuda.amp.autocast():  # Enable mixed precision\n"
          ]
        },
        {
          "output_type": "stream",
          "name": "stdout",
          "text": [
            "Epoch [213/250] | Train Loss: 0.3657 | Valid Loss: 0.4817 | Time : 3.3 s\n",
            "\u001b[33mValid loss improved\u001b[00m\n"
          ]
        },
        {
          "output_type": "stream",
          "name": "stderr",
          "text": [
            "<ipython-input-18-89221ecb2cf0>:13: FutureWarning: `torch.cuda.amp.autocast(args...)` is deprecated. Please use `torch.amp.autocast('cuda', args...)` instead.\n",
            "  with torch.cuda.amp.autocast():  # Enable mixed precision\n",
            "<ipython-input-18-89221ecb2cf0>:41: FutureWarning: `torch.cuda.amp.autocast(args...)` is deprecated. Please use `torch.amp.autocast('cuda', args...)` instead.\n",
            "  with torch.cuda.amp.autocast():  # Enable mixed precision\n"
          ]
        },
        {
          "output_type": "stream",
          "name": "stdout",
          "text": [
            "Epoch [214/250] | Train Loss: 0.3742 | Valid Loss: 0.4868 | Time : 3.36 s\n"
          ]
        },
        {
          "output_type": "stream",
          "name": "stderr",
          "text": [
            "<ipython-input-18-89221ecb2cf0>:13: FutureWarning: `torch.cuda.amp.autocast(args...)` is deprecated. Please use `torch.amp.autocast('cuda', args...)` instead.\n",
            "  with torch.cuda.amp.autocast():  # Enable mixed precision\n",
            "<ipython-input-18-89221ecb2cf0>:41: FutureWarning: `torch.cuda.amp.autocast(args...)` is deprecated. Please use `torch.amp.autocast('cuda', args...)` instead.\n",
            "  with torch.cuda.amp.autocast():  # Enable mixed precision\n"
          ]
        },
        {
          "output_type": "stream",
          "name": "stdout",
          "text": [
            "Epoch [215/250] | Train Loss: 0.3786 | Valid Loss: 0.4925 | Time : 3.63 s\n"
          ]
        },
        {
          "output_type": "stream",
          "name": "stderr",
          "text": [
            "<ipython-input-18-89221ecb2cf0>:13: FutureWarning: `torch.cuda.amp.autocast(args...)` is deprecated. Please use `torch.amp.autocast('cuda', args...)` instead.\n",
            "  with torch.cuda.amp.autocast():  # Enable mixed precision\n",
            "<ipython-input-18-89221ecb2cf0>:41: FutureWarning: `torch.cuda.amp.autocast(args...)` is deprecated. Please use `torch.amp.autocast('cuda', args...)` instead.\n",
            "  with torch.cuda.amp.autocast():  # Enable mixed precision\n"
          ]
        },
        {
          "output_type": "stream",
          "name": "stdout",
          "text": [
            "Epoch [216/250] | Train Loss: 0.3726 | Valid Loss: 0.4828 | Time : 3.24 s\n"
          ]
        },
        {
          "output_type": "stream",
          "name": "stderr",
          "text": [
            "<ipython-input-18-89221ecb2cf0>:13: FutureWarning: `torch.cuda.amp.autocast(args...)` is deprecated. Please use `torch.amp.autocast('cuda', args...)` instead.\n",
            "  with torch.cuda.amp.autocast():  # Enable mixed precision\n",
            "<ipython-input-18-89221ecb2cf0>:41: FutureWarning: `torch.cuda.amp.autocast(args...)` is deprecated. Please use `torch.amp.autocast('cuda', args...)` instead.\n",
            "  with torch.cuda.amp.autocast():  # Enable mixed precision\n"
          ]
        },
        {
          "output_type": "stream",
          "name": "stdout",
          "text": [
            "Epoch [217/250] | Train Loss: 0.3704 | Valid Loss: 0.4809 | Time : 3.23 s\n",
            "\u001b[33mValid loss improved\u001b[00m\n"
          ]
        },
        {
          "output_type": "stream",
          "name": "stderr",
          "text": [
            "<ipython-input-18-89221ecb2cf0>:13: FutureWarning: `torch.cuda.amp.autocast(args...)` is deprecated. Please use `torch.amp.autocast('cuda', args...)` instead.\n",
            "  with torch.cuda.amp.autocast():  # Enable mixed precision\n",
            "<ipython-input-18-89221ecb2cf0>:41: FutureWarning: `torch.cuda.amp.autocast(args...)` is deprecated. Please use `torch.amp.autocast('cuda', args...)` instead.\n",
            "  with torch.cuda.amp.autocast():  # Enable mixed precision\n"
          ]
        },
        {
          "output_type": "stream",
          "name": "stdout",
          "text": [
            "Epoch [218/250] | Train Loss: 0.3695 | Valid Loss: 0.4764 | Time : 3.46 s\n",
            "\u001b[33mValid loss improved\u001b[00m\n"
          ]
        },
        {
          "output_type": "stream",
          "name": "stderr",
          "text": [
            "<ipython-input-18-89221ecb2cf0>:13: FutureWarning: `torch.cuda.amp.autocast(args...)` is deprecated. Please use `torch.amp.autocast('cuda', args...)` instead.\n",
            "  with torch.cuda.amp.autocast():  # Enable mixed precision\n",
            "<ipython-input-18-89221ecb2cf0>:41: FutureWarning: `torch.cuda.amp.autocast(args...)` is deprecated. Please use `torch.amp.autocast('cuda', args...)` instead.\n",
            "  with torch.cuda.amp.autocast():  # Enable mixed precision\n"
          ]
        },
        {
          "output_type": "stream",
          "name": "stdout",
          "text": [
            "Epoch [219/250] | Train Loss: 0.3582 | Valid Loss: 0.4741 | Time : 3.77 s\n",
            "\u001b[33mValid loss improved\u001b[00m\n"
          ]
        },
        {
          "output_type": "stream",
          "name": "stderr",
          "text": [
            "<ipython-input-18-89221ecb2cf0>:13: FutureWarning: `torch.cuda.amp.autocast(args...)` is deprecated. Please use `torch.amp.autocast('cuda', args...)` instead.\n",
            "  with torch.cuda.amp.autocast():  # Enable mixed precision\n",
            "<ipython-input-18-89221ecb2cf0>:41: FutureWarning: `torch.cuda.amp.autocast(args...)` is deprecated. Please use `torch.amp.autocast('cuda', args...)` instead.\n",
            "  with torch.cuda.amp.autocast():  # Enable mixed precision\n"
          ]
        },
        {
          "output_type": "stream",
          "name": "stdout",
          "text": [
            "Epoch [220/250] | Train Loss: 0.3666 | Valid Loss: 0.4763 | Time : 3.24 s\n"
          ]
        },
        {
          "output_type": "stream",
          "name": "stderr",
          "text": [
            "<ipython-input-18-89221ecb2cf0>:13: FutureWarning: `torch.cuda.amp.autocast(args...)` is deprecated. Please use `torch.amp.autocast('cuda', args...)` instead.\n",
            "  with torch.cuda.amp.autocast():  # Enable mixed precision\n",
            "<ipython-input-18-89221ecb2cf0>:41: FutureWarning: `torch.cuda.amp.autocast(args...)` is deprecated. Please use `torch.amp.autocast('cuda', args...)` instead.\n",
            "  with torch.cuda.amp.autocast():  # Enable mixed precision\n"
          ]
        },
        {
          "output_type": "stream",
          "name": "stdout",
          "text": [
            "Epoch [221/250] | Train Loss: 0.3580 | Valid Loss: 0.4781 | Time : 3.8 s\n"
          ]
        },
        {
          "output_type": "stream",
          "name": "stderr",
          "text": [
            "<ipython-input-18-89221ecb2cf0>:13: FutureWarning: `torch.cuda.amp.autocast(args...)` is deprecated. Please use `torch.amp.autocast('cuda', args...)` instead.\n",
            "  with torch.cuda.amp.autocast():  # Enable mixed precision\n",
            "<ipython-input-18-89221ecb2cf0>:41: FutureWarning: `torch.cuda.amp.autocast(args...)` is deprecated. Please use `torch.amp.autocast('cuda', args...)` instead.\n",
            "  with torch.cuda.amp.autocast():  # Enable mixed precision\n"
          ]
        },
        {
          "output_type": "stream",
          "name": "stdout",
          "text": [
            "Epoch [222/250] | Train Loss: 0.3530 | Valid Loss: 0.4762 | Time : 3.26 s\n"
          ]
        },
        {
          "output_type": "stream",
          "name": "stderr",
          "text": [
            "<ipython-input-18-89221ecb2cf0>:13: FutureWarning: `torch.cuda.amp.autocast(args...)` is deprecated. Please use `torch.amp.autocast('cuda', args...)` instead.\n",
            "  with torch.cuda.amp.autocast():  # Enable mixed precision\n",
            "<ipython-input-18-89221ecb2cf0>:41: FutureWarning: `torch.cuda.amp.autocast(args...)` is deprecated. Please use `torch.amp.autocast('cuda', args...)` instead.\n",
            "  with torch.cuda.amp.autocast():  # Enable mixed precision\n"
          ]
        },
        {
          "output_type": "stream",
          "name": "stdout",
          "text": [
            "Epoch [223/250] | Train Loss: 0.3482 | Valid Loss: 0.4732 | Time : 3.33 s\n",
            "\u001b[33mValid loss improved\u001b[00m\n"
          ]
        },
        {
          "output_type": "stream",
          "name": "stderr",
          "text": [
            "<ipython-input-18-89221ecb2cf0>:13: FutureWarning: `torch.cuda.amp.autocast(args...)` is deprecated. Please use `torch.amp.autocast('cuda', args...)` instead.\n",
            "  with torch.cuda.amp.autocast():  # Enable mixed precision\n",
            "<ipython-input-18-89221ecb2cf0>:41: FutureWarning: `torch.cuda.amp.autocast(args...)` is deprecated. Please use `torch.amp.autocast('cuda', args...)` instead.\n",
            "  with torch.cuda.amp.autocast():  # Enable mixed precision\n"
          ]
        },
        {
          "output_type": "stream",
          "name": "stdout",
          "text": [
            "Epoch [224/250] | Train Loss: 0.3550 | Valid Loss: 0.4802 | Time : 4.24 s\n"
          ]
        },
        {
          "output_type": "stream",
          "name": "stderr",
          "text": [
            "<ipython-input-18-89221ecb2cf0>:13: FutureWarning: `torch.cuda.amp.autocast(args...)` is deprecated. Please use `torch.amp.autocast('cuda', args...)` instead.\n",
            "  with torch.cuda.amp.autocast():  # Enable mixed precision\n",
            "<ipython-input-18-89221ecb2cf0>:41: FutureWarning: `torch.cuda.amp.autocast(args...)` is deprecated. Please use `torch.amp.autocast('cuda', args...)` instead.\n",
            "  with torch.cuda.amp.autocast():  # Enable mixed precision\n"
          ]
        },
        {
          "output_type": "stream",
          "name": "stdout",
          "text": [
            "Epoch [225/250] | Train Loss: 0.3451 | Valid Loss: 0.4798 | Time : 3.24 s\n"
          ]
        },
        {
          "output_type": "stream",
          "name": "stderr",
          "text": [
            "<ipython-input-18-89221ecb2cf0>:13: FutureWarning: `torch.cuda.amp.autocast(args...)` is deprecated. Please use `torch.amp.autocast('cuda', args...)` instead.\n",
            "  with torch.cuda.amp.autocast():  # Enable mixed precision\n",
            "<ipython-input-18-89221ecb2cf0>:41: FutureWarning: `torch.cuda.amp.autocast(args...)` is deprecated. Please use `torch.amp.autocast('cuda', args...)` instead.\n",
            "  with torch.cuda.amp.autocast():  # Enable mixed precision\n"
          ]
        },
        {
          "output_type": "stream",
          "name": "stdout",
          "text": [
            "Epoch [226/250] | Train Loss: 0.3459 | Valid Loss: 0.4800 | Time : 3.27 s\n"
          ]
        },
        {
          "output_type": "stream",
          "name": "stderr",
          "text": [
            "<ipython-input-18-89221ecb2cf0>:13: FutureWarning: `torch.cuda.amp.autocast(args...)` is deprecated. Please use `torch.amp.autocast('cuda', args...)` instead.\n",
            "  with torch.cuda.amp.autocast():  # Enable mixed precision\n",
            "<ipython-input-18-89221ecb2cf0>:41: FutureWarning: `torch.cuda.amp.autocast(args...)` is deprecated. Please use `torch.amp.autocast('cuda', args...)` instead.\n",
            "  with torch.cuda.amp.autocast():  # Enable mixed precision\n"
          ]
        },
        {
          "output_type": "stream",
          "name": "stdout",
          "text": [
            "Epoch [227/250] | Train Loss: 0.3551 | Valid Loss: 0.4880 | Time : 3.37 s\n"
          ]
        },
        {
          "output_type": "stream",
          "name": "stderr",
          "text": [
            "<ipython-input-18-89221ecb2cf0>:13: FutureWarning: `torch.cuda.amp.autocast(args...)` is deprecated. Please use `torch.amp.autocast('cuda', args...)` instead.\n",
            "  with torch.cuda.amp.autocast():  # Enable mixed precision\n",
            "<ipython-input-18-89221ecb2cf0>:41: FutureWarning: `torch.cuda.amp.autocast(args...)` is deprecated. Please use `torch.amp.autocast('cuda', args...)` instead.\n",
            "  with torch.cuda.amp.autocast():  # Enable mixed precision\n"
          ]
        },
        {
          "output_type": "stream",
          "name": "stdout",
          "text": [
            "Epoch [228/250] | Train Loss: 0.3447 | Valid Loss: 0.4748 | Time : 3.24 s\n"
          ]
        },
        {
          "output_type": "stream",
          "name": "stderr",
          "text": [
            "<ipython-input-18-89221ecb2cf0>:13: FutureWarning: `torch.cuda.amp.autocast(args...)` is deprecated. Please use `torch.amp.autocast('cuda', args...)` instead.\n",
            "  with torch.cuda.amp.autocast():  # Enable mixed precision\n",
            "<ipython-input-18-89221ecb2cf0>:41: FutureWarning: `torch.cuda.amp.autocast(args...)` is deprecated. Please use `torch.amp.autocast('cuda', args...)` instead.\n",
            "  with torch.cuda.amp.autocast():  # Enable mixed precision\n"
          ]
        },
        {
          "output_type": "stream",
          "name": "stdout",
          "text": [
            "Epoch [229/250] | Train Loss: 0.3374 | Valid Loss: 0.4755 | Time : 3.24 s\n"
          ]
        },
        {
          "output_type": "stream",
          "name": "stderr",
          "text": [
            "<ipython-input-18-89221ecb2cf0>:13: FutureWarning: `torch.cuda.amp.autocast(args...)` is deprecated. Please use `torch.amp.autocast('cuda', args...)` instead.\n",
            "  with torch.cuda.amp.autocast():  # Enable mixed precision\n",
            "<ipython-input-18-89221ecb2cf0>:41: FutureWarning: `torch.cuda.amp.autocast(args...)` is deprecated. Please use `torch.amp.autocast('cuda', args...)` instead.\n",
            "  with torch.cuda.amp.autocast():  # Enable mixed precision\n"
          ]
        },
        {
          "output_type": "stream",
          "name": "stdout",
          "text": [
            "Epoch [230/250] | Train Loss: 0.3356 | Valid Loss: 0.4738 | Time : 3.39 s\n"
          ]
        },
        {
          "output_type": "stream",
          "name": "stderr",
          "text": [
            "<ipython-input-18-89221ecb2cf0>:13: FutureWarning: `torch.cuda.amp.autocast(args...)` is deprecated. Please use `torch.amp.autocast('cuda', args...)` instead.\n",
            "  with torch.cuda.amp.autocast():  # Enable mixed precision\n",
            "<ipython-input-18-89221ecb2cf0>:41: FutureWarning: `torch.cuda.amp.autocast(args...)` is deprecated. Please use `torch.amp.autocast('cuda', args...)` instead.\n",
            "  with torch.cuda.amp.autocast():  # Enable mixed precision\n"
          ]
        },
        {
          "output_type": "stream",
          "name": "stdout",
          "text": [
            "Epoch [231/250] | Train Loss: 0.3353 | Valid Loss: 0.4779 | Time : 3.21 s\n"
          ]
        },
        {
          "output_type": "stream",
          "name": "stderr",
          "text": [
            "<ipython-input-18-89221ecb2cf0>:13: FutureWarning: `torch.cuda.amp.autocast(args...)` is deprecated. Please use `torch.amp.autocast('cuda', args...)` instead.\n",
            "  with torch.cuda.amp.autocast():  # Enable mixed precision\n",
            "<ipython-input-18-89221ecb2cf0>:41: FutureWarning: `torch.cuda.amp.autocast(args...)` is deprecated. Please use `torch.amp.autocast('cuda', args...)` instead.\n",
            "  with torch.cuda.amp.autocast():  # Enable mixed precision\n"
          ]
        },
        {
          "output_type": "stream",
          "name": "stdout",
          "text": [
            "Epoch [232/250] | Train Loss: 0.3331 | Valid Loss: 0.4718 | Time : 3.23 s\n",
            "\u001b[33mValid loss improved\u001b[00m\n"
          ]
        },
        {
          "output_type": "stream",
          "name": "stderr",
          "text": [
            "<ipython-input-18-89221ecb2cf0>:13: FutureWarning: `torch.cuda.amp.autocast(args...)` is deprecated. Please use `torch.amp.autocast('cuda', args...)` instead.\n",
            "  with torch.cuda.amp.autocast():  # Enable mixed precision\n",
            "<ipython-input-18-89221ecb2cf0>:41: FutureWarning: `torch.cuda.amp.autocast(args...)` is deprecated. Please use `torch.amp.autocast('cuda', args...)` instead.\n",
            "  with torch.cuda.amp.autocast():  # Enable mixed precision\n"
          ]
        },
        {
          "output_type": "stream",
          "name": "stdout",
          "text": [
            "Epoch [233/250] | Train Loss: 0.3320 | Valid Loss: 0.4704 | Time : 3.47 s\n",
            "\u001b[33mValid loss improved\u001b[00m\n"
          ]
        },
        {
          "output_type": "stream",
          "name": "stderr",
          "text": [
            "<ipython-input-18-89221ecb2cf0>:13: FutureWarning: `torch.cuda.amp.autocast(args...)` is deprecated. Please use `torch.amp.autocast('cuda', args...)` instead.\n",
            "  with torch.cuda.amp.autocast():  # Enable mixed precision\n",
            "<ipython-input-18-89221ecb2cf0>:41: FutureWarning: `torch.cuda.amp.autocast(args...)` is deprecated. Please use `torch.amp.autocast('cuda', args...)` instead.\n",
            "  with torch.cuda.amp.autocast():  # Enable mixed precision\n"
          ]
        },
        {
          "output_type": "stream",
          "name": "stdout",
          "text": [
            "Epoch [234/250] | Train Loss: 0.3249 | Valid Loss: 0.4660 | Time : 3.83 s\n",
            "\u001b[33mValid loss improved\u001b[00m\n"
          ]
        },
        {
          "output_type": "stream",
          "name": "stderr",
          "text": [
            "<ipython-input-18-89221ecb2cf0>:13: FutureWarning: `torch.cuda.amp.autocast(args...)` is deprecated. Please use `torch.amp.autocast('cuda', args...)` instead.\n",
            "  with torch.cuda.amp.autocast():  # Enable mixed precision\n",
            "<ipython-input-18-89221ecb2cf0>:41: FutureWarning: `torch.cuda.amp.autocast(args...)` is deprecated. Please use `torch.amp.autocast('cuda', args...)` instead.\n",
            "  with torch.cuda.amp.autocast():  # Enable mixed precision\n"
          ]
        },
        {
          "output_type": "stream",
          "name": "stdout",
          "text": [
            "Epoch [235/250] | Train Loss: 0.3211 | Valid Loss: 0.4726 | Time : 3.83 s\n"
          ]
        },
        {
          "output_type": "stream",
          "name": "stderr",
          "text": [
            "<ipython-input-18-89221ecb2cf0>:13: FutureWarning: `torch.cuda.amp.autocast(args...)` is deprecated. Please use `torch.amp.autocast('cuda', args...)` instead.\n",
            "  with torch.cuda.amp.autocast():  # Enable mixed precision\n",
            "<ipython-input-18-89221ecb2cf0>:41: FutureWarning: `torch.cuda.amp.autocast(args...)` is deprecated. Please use `torch.amp.autocast('cuda', args...)` instead.\n",
            "  with torch.cuda.amp.autocast():  # Enable mixed precision\n"
          ]
        },
        {
          "output_type": "stream",
          "name": "stdout",
          "text": [
            "Epoch [236/250] | Train Loss: 0.3181 | Valid Loss: 0.4616 | Time : 3.58 s\n",
            "\u001b[33mValid loss improved\u001b[00m\n"
          ]
        },
        {
          "output_type": "stream",
          "name": "stderr",
          "text": [
            "<ipython-input-18-89221ecb2cf0>:13: FutureWarning: `torch.cuda.amp.autocast(args...)` is deprecated. Please use `torch.amp.autocast('cuda', args...)` instead.\n",
            "  with torch.cuda.amp.autocast():  # Enable mixed precision\n",
            "<ipython-input-18-89221ecb2cf0>:41: FutureWarning: `torch.cuda.amp.autocast(args...)` is deprecated. Please use `torch.amp.autocast('cuda', args...)` instead.\n",
            "  with torch.cuda.amp.autocast():  # Enable mixed precision\n"
          ]
        },
        {
          "output_type": "stream",
          "name": "stdout",
          "text": [
            "Epoch [237/250] | Train Loss: 0.3218 | Valid Loss: 0.4685 | Time : 3.75 s\n"
          ]
        },
        {
          "output_type": "stream",
          "name": "stderr",
          "text": [
            "<ipython-input-18-89221ecb2cf0>:13: FutureWarning: `torch.cuda.amp.autocast(args...)` is deprecated. Please use `torch.amp.autocast('cuda', args...)` instead.\n",
            "  with torch.cuda.amp.autocast():  # Enable mixed precision\n",
            "<ipython-input-18-89221ecb2cf0>:41: FutureWarning: `torch.cuda.amp.autocast(args...)` is deprecated. Please use `torch.amp.autocast('cuda', args...)` instead.\n",
            "  with torch.cuda.amp.autocast():  # Enable mixed precision\n"
          ]
        },
        {
          "output_type": "stream",
          "name": "stdout",
          "text": [
            "Epoch [238/250] | Train Loss: 0.3169 | Valid Loss: 0.4606 | Time : 3.28 s\n",
            "\u001b[33mValid loss improved\u001b[00m\n"
          ]
        },
        {
          "output_type": "stream",
          "name": "stderr",
          "text": [
            "<ipython-input-18-89221ecb2cf0>:13: FutureWarning: `torch.cuda.amp.autocast(args...)` is deprecated. Please use `torch.amp.autocast('cuda', args...)` instead.\n",
            "  with torch.cuda.amp.autocast():  # Enable mixed precision\n",
            "<ipython-input-18-89221ecb2cf0>:41: FutureWarning: `torch.cuda.amp.autocast(args...)` is deprecated. Please use `torch.amp.autocast('cuda', args...)` instead.\n",
            "  with torch.cuda.amp.autocast():  # Enable mixed precision\n"
          ]
        },
        {
          "output_type": "stream",
          "name": "stdout",
          "text": [
            "Epoch [239/250] | Train Loss: 0.3221 | Valid Loss: 0.4703 | Time : 4.15 s\n"
          ]
        },
        {
          "output_type": "stream",
          "name": "stderr",
          "text": [
            "<ipython-input-18-89221ecb2cf0>:13: FutureWarning: `torch.cuda.amp.autocast(args...)` is deprecated. Please use `torch.amp.autocast('cuda', args...)` instead.\n",
            "  with torch.cuda.amp.autocast():  # Enable mixed precision\n",
            "<ipython-input-18-89221ecb2cf0>:41: FutureWarning: `torch.cuda.amp.autocast(args...)` is deprecated. Please use `torch.amp.autocast('cuda', args...)` instead.\n",
            "  with torch.cuda.amp.autocast():  # Enable mixed precision\n"
          ]
        },
        {
          "output_type": "stream",
          "name": "stdout",
          "text": [
            "Epoch [240/250] | Train Loss: 0.3154 | Valid Loss: 0.4570 | Time : 3.28 s\n",
            "\u001b[33mValid loss improved\u001b[00m\n"
          ]
        },
        {
          "output_type": "stream",
          "name": "stderr",
          "text": [
            "<ipython-input-18-89221ecb2cf0>:13: FutureWarning: `torch.cuda.amp.autocast(args...)` is deprecated. Please use `torch.amp.autocast('cuda', args...)` instead.\n",
            "  with torch.cuda.amp.autocast():  # Enable mixed precision\n",
            "<ipython-input-18-89221ecb2cf0>:41: FutureWarning: `torch.cuda.amp.autocast(args...)` is deprecated. Please use `torch.amp.autocast('cuda', args...)` instead.\n",
            "  with torch.cuda.amp.autocast():  # Enable mixed precision\n"
          ]
        },
        {
          "output_type": "stream",
          "name": "stdout",
          "text": [
            "Epoch [241/250] | Train Loss: 0.3128 | Valid Loss: 0.4645 | Time : 3.9 s\n"
          ]
        },
        {
          "output_type": "stream",
          "name": "stderr",
          "text": [
            "<ipython-input-18-89221ecb2cf0>:13: FutureWarning: `torch.cuda.amp.autocast(args...)` is deprecated. Please use `torch.amp.autocast('cuda', args...)` instead.\n",
            "  with torch.cuda.amp.autocast():  # Enable mixed precision\n",
            "<ipython-input-18-89221ecb2cf0>:41: FutureWarning: `torch.cuda.amp.autocast(args...)` is deprecated. Please use `torch.amp.autocast('cuda', args...)` instead.\n",
            "  with torch.cuda.amp.autocast():  # Enable mixed precision\n"
          ]
        },
        {
          "output_type": "stream",
          "name": "stdout",
          "text": [
            "Epoch [242/250] | Train Loss: 0.3104 | Valid Loss: 0.4565 | Time : 3.32 s\n",
            "\u001b[33mValid loss improved\u001b[00m\n"
          ]
        },
        {
          "output_type": "stream",
          "name": "stderr",
          "text": [
            "<ipython-input-18-89221ecb2cf0>:13: FutureWarning: `torch.cuda.amp.autocast(args...)` is deprecated. Please use `torch.amp.autocast('cuda', args...)` instead.\n",
            "  with torch.cuda.amp.autocast():  # Enable mixed precision\n",
            "<ipython-input-18-89221ecb2cf0>:41: FutureWarning: `torch.cuda.amp.autocast(args...)` is deprecated. Please use `torch.amp.autocast('cuda', args...)` instead.\n",
            "  with torch.cuda.amp.autocast():  # Enable mixed precision\n"
          ]
        },
        {
          "output_type": "stream",
          "name": "stdout",
          "text": [
            "Epoch [243/250] | Train Loss: 0.3110 | Valid Loss: 0.4697 | Time : 3.85 s\n"
          ]
        },
        {
          "output_type": "stream",
          "name": "stderr",
          "text": [
            "<ipython-input-18-89221ecb2cf0>:13: FutureWarning: `torch.cuda.amp.autocast(args...)` is deprecated. Please use `torch.amp.autocast('cuda', args...)` instead.\n",
            "  with torch.cuda.amp.autocast():  # Enable mixed precision\n",
            "<ipython-input-18-89221ecb2cf0>:41: FutureWarning: `torch.cuda.amp.autocast(args...)` is deprecated. Please use `torch.amp.autocast('cuda', args...)` instead.\n",
            "  with torch.cuda.amp.autocast():  # Enable mixed precision\n"
          ]
        },
        {
          "output_type": "stream",
          "name": "stdout",
          "text": [
            "Epoch [244/250] | Train Loss: 0.3046 | Valid Loss: 0.4532 | Time : 3.3 s\n",
            "\u001b[33mValid loss improved\u001b[00m\n"
          ]
        },
        {
          "output_type": "stream",
          "name": "stderr",
          "text": [
            "<ipython-input-18-89221ecb2cf0>:13: FutureWarning: `torch.cuda.amp.autocast(args...)` is deprecated. Please use `torch.amp.autocast('cuda', args...)` instead.\n",
            "  with torch.cuda.amp.autocast():  # Enable mixed precision\n",
            "<ipython-input-18-89221ecb2cf0>:41: FutureWarning: `torch.cuda.amp.autocast(args...)` is deprecated. Please use `torch.amp.autocast('cuda', args...)` instead.\n",
            "  with torch.cuda.amp.autocast():  # Enable mixed precision\n"
          ]
        },
        {
          "output_type": "stream",
          "name": "stdout",
          "text": [
            "Epoch [245/250] | Train Loss: 0.3105 | Valid Loss: 0.4736 | Time : 4.12 s\n"
          ]
        },
        {
          "output_type": "stream",
          "name": "stderr",
          "text": [
            "<ipython-input-18-89221ecb2cf0>:13: FutureWarning: `torch.cuda.amp.autocast(args...)` is deprecated. Please use `torch.amp.autocast('cuda', args...)` instead.\n",
            "  with torch.cuda.amp.autocast():  # Enable mixed precision\n",
            "<ipython-input-18-89221ecb2cf0>:41: FutureWarning: `torch.cuda.amp.autocast(args...)` is deprecated. Please use `torch.amp.autocast('cuda', args...)` instead.\n",
            "  with torch.cuda.amp.autocast():  # Enable mixed precision\n"
          ]
        },
        {
          "output_type": "stream",
          "name": "stdout",
          "text": [
            "Epoch [246/250] | Train Loss: 0.3104 | Valid Loss: 0.4517 | Time : 3.25 s\n",
            "\u001b[33mValid loss improved\u001b[00m\n"
          ]
        },
        {
          "output_type": "stream",
          "name": "stderr",
          "text": [
            "<ipython-input-18-89221ecb2cf0>:13: FutureWarning: `torch.cuda.amp.autocast(args...)` is deprecated. Please use `torch.amp.autocast('cuda', args...)` instead.\n",
            "  with torch.cuda.amp.autocast():  # Enable mixed precision\n",
            "<ipython-input-18-89221ecb2cf0>:41: FutureWarning: `torch.cuda.amp.autocast(args...)` is deprecated. Please use `torch.amp.autocast('cuda', args...)` instead.\n",
            "  with torch.cuda.amp.autocast():  # Enable mixed precision\n"
          ]
        },
        {
          "output_type": "stream",
          "name": "stdout",
          "text": [
            "Epoch [247/250] | Train Loss: 0.3055 | Valid Loss: 0.4582 | Time : 3.78 s\n"
          ]
        },
        {
          "output_type": "stream",
          "name": "stderr",
          "text": [
            "<ipython-input-18-89221ecb2cf0>:13: FutureWarning: `torch.cuda.amp.autocast(args...)` is deprecated. Please use `torch.amp.autocast('cuda', args...)` instead.\n",
            "  with torch.cuda.amp.autocast():  # Enable mixed precision\n",
            "<ipython-input-18-89221ecb2cf0>:41: FutureWarning: `torch.cuda.amp.autocast(args...)` is deprecated. Please use `torch.amp.autocast('cuda', args...)` instead.\n",
            "  with torch.cuda.amp.autocast():  # Enable mixed precision\n"
          ]
        },
        {
          "output_type": "stream",
          "name": "stdout",
          "text": [
            "Epoch [248/250] | Train Loss: 0.3054 | Valid Loss: 0.4554 | Time : 3.72 s\n"
          ]
        },
        {
          "output_type": "stream",
          "name": "stderr",
          "text": [
            "<ipython-input-18-89221ecb2cf0>:13: FutureWarning: `torch.cuda.amp.autocast(args...)` is deprecated. Please use `torch.amp.autocast('cuda', args...)` instead.\n",
            "  with torch.cuda.amp.autocast():  # Enable mixed precision\n",
            "<ipython-input-18-89221ecb2cf0>:41: FutureWarning: `torch.cuda.amp.autocast(args...)` is deprecated. Please use `torch.amp.autocast('cuda', args...)` instead.\n",
            "  with torch.cuda.amp.autocast():  # Enable mixed precision\n"
          ]
        },
        {
          "output_type": "stream",
          "name": "stdout",
          "text": [
            "Epoch [249/250] | Train Loss: 0.3006 | Valid Loss: 0.4414 | Time : 3.27 s\n",
            "\u001b[33mValid loss improved\u001b[00m\n"
          ]
        },
        {
          "output_type": "stream",
          "name": "stderr",
          "text": [
            "<ipython-input-18-89221ecb2cf0>:13: FutureWarning: `torch.cuda.amp.autocast(args...)` is deprecated. Please use `torch.amp.autocast('cuda', args...)` instead.\n",
            "  with torch.cuda.amp.autocast():  # Enable mixed precision\n",
            "<ipython-input-18-89221ecb2cf0>:41: FutureWarning: `torch.cuda.amp.autocast(args...)` is deprecated. Please use `torch.amp.autocast('cuda', args...)` instead.\n",
            "  with torch.cuda.amp.autocast():  # Enable mixed precision\n"
          ]
        },
        {
          "output_type": "stream",
          "name": "stdout",
          "text": [
            "Epoch [250/250] | Train Loss: 0.2984 | Valid Loss: 0.4538 | Time : 3.71 s\n"
          ]
        }
      ]
    },
    {
      "cell_type": "markdown",
      "source": [
        "# Plot"
      ],
      "metadata": {
        "id": "OwLa5ps0lP6r"
      }
    },
    {
      "cell_type": "code",
      "source": [
        "im, mask = next(iter(train_dataset))"
      ],
      "metadata": {
        "id": "A0K16dtNfjmE"
      },
      "execution_count": null,
      "outputs": []
    },
    {
      "cell_type": "code",
      "source": [
        "pred = model(im.to(0)[None,...])"
      ],
      "metadata": {
        "id": "ahqyeOAiiPx1"
      },
      "execution_count": null,
      "outputs": []
    },
    {
      "cell_type": "code",
      "source": [
        "fig = plt.figure()\n",
        "plt.subplot(1,2,1)\n",
        "plt.imshow(mask[0],'gray');plt.axis(False);plt.title(\"real mask\")\n",
        "plt.subplot(1,2,2)\n",
        "plt.imshow(pred[0,0].detach().cpu()>0.5, 'gray');plt.axis(False);plt.title('predicted')\n",
        "plt.savefig(\"figs/unet-patches-finetuned-traindata.png\")"
      ],
      "metadata": {
        "colab": {
          "base_uri": "https://localhost:8080/",
          "height": 284
        },
        "id": "IQ19ngesiXwK",
        "outputId": "0aa05910-7aec-4fa6-bf69-5d93b24f84fc"
      },
      "execution_count": null,
      "outputs": [
        {
          "output_type": "display_data",
          "data": {
            "text/plain": [
              "<Figure size 640x480 with 2 Axes>"
            ],
            "image/png": "[encoded data removed]"
          },
          "metadata": {}
        }
      ]
    },
    {
      "cell_type": "code",
      "source": [
        "valid_metric_hist['AUC'].__len__()"
      ],
      "metadata": {
        "colab": {
          "base_uri": "https://localhost:8080/"
        },
        "id": "T_px_BlDiX0T",
        "outputId": "7d7f6b88-ff3f-495b-8feb-04860fd862ff"
      },
      "execution_count": null,
      "outputs": [
        {
          "output_type": "execute_result",
          "data": {
            "text/plain": [
              "200"
            ]
          },
          "metadata": {},
          "execution_count": 47
        }
      ]
    },
    {
      "cell_type": "code",
      "source": [
        "\"\"\"load pre-trained model\"\"\"\n",
        "checkpoint = torch.load(\"models/unet_model_patches-finetune.pth\")\n",
        "model.load_state_dict(checkpoint['model'])\n",
        "optimizer.load_state_dict(checkpoint['optimizer'])\n",
        "scheduler.load_state_dict(checkpoint['scheduler'])\n",
        "init_epoch = checkpoint['epoch']\n",
        "valid_metric_hist = checkpoint['valid_metric_history']\n",
        "train_metric_hist = checkpoint['train_metric_history']\n",
        "history = checkpoint['history']"
      ],
      "metadata": {
        "colab": {
          "base_uri": "https://localhost:8080/"
        },
        "id": "k_CX7zAkiX4_",
        "outputId": "d4ca03ac-7b32-455a-fb35-c4318cb379d8"
      },
      "execution_count": null,
      "outputs": [
        {
          "output_type": "stream",
          "name": "stderr",
          "text": [
            "<ipython-input-53-f6e6a2c6fe1b>:2: FutureWarning: You are using `torch.load` with `weights_only=False` (the current default value), which uses the default pickle module implicitly. It is possible to construct malicious pickle data which will execute arbitrary code during unpickling (See https://github.com/pytorch/pytorch/blob/main/SECURITY.md#untrusted-models for more details). In a future release, the default value for `weights_only` will be flipped to `True`. This limits the functions that could be executed during unpickling. Arbitrary objects will no longer be allowed to be loaded via this mode unless they are explicitly allowlisted by the user via `torch.serialization.add_safe_globals`. We recommend you start setting `weights_only=True` for any use case where you don't have full control of the loaded file. Please open an issue on GitHub for any issues related to this experimental feature.\n",
            "  checkpoint = torch.load(\"models/unet_model_patches-finetune.pth\")\n"
          ]
        }
      ]
    },
    {
      "cell_type": "code",
      "source": [],
      "metadata": {
        "id": "vSp4mx8tllMX"
      },
      "execution_count": null,
      "outputs": []
    },
    {
      "cell_type": "code",
      "source": [
        "plt.plot(train_metric_hist['AUC'])\n",
        "plt.plot(valid_metric_hist['AUC'])"
      ],
      "metadata": {
        "colab": {
          "base_uri": "https://localhost:8080/",
          "height": 448
        },
        "id": "JQjHniBPllRU",
        "outputId": "519d5e8f-6c19-4c78-fcc3-61732f05ce42"
      },
      "execution_count": null,
      "outputs": [
        {
          "output_type": "execute_result",
          "data": {
            "text/plain": [
              "[<matplotlib.lines.Line2D at 0x7c759993e800>]"
            ]
          },
          "metadata": {},
          "execution_count": 56
        },
        {
          "output_type": "display_data",
          "data": {
            "text/plain": [
              "<Figure size 640x480 with 1 Axes>"
            ],
            "image/png": "[encoded data removed]"
          },
          "metadata": {}
        }
      ]
    },
    {
      "cell_type": "code",
      "source": [],
      "metadata": {
        "id": "7e1BtEQmllV1"
      },
      "execution_count": null,
      "outputs": []
    },
    {
      "cell_type": "code",
      "source": [],
      "metadata": {
        "id": "yyzKIx2Klla8"
      },
      "execution_count": null,
      "outputs": []
    }
  ],
  "metadata": {
    "accelerator": "GPU",
    "colab": {
      "gpuType": "T4",
      "provenance": [],
      "toc_visible": true,
      "include_colab_link": true
    },
    "kernelspec": {
      "display_name": "Python 3",
      "name": "python3"
    },
    "language_info": {
      "name": "python"
    }
  },
  "nbformat": 4,
  "nbformat_minor": 0
}