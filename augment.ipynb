{
  "cells": [
    {
      "cell_type": "code",
      "execution_count": 1,
      "metadata": {
        "colab": {
          "base_uri": "https://localhost:8080/"
        },
        "id": "bXhZMIAw0WSC",
        "outputId": "ab8eb101-2f45-4390-fdcb-fb3ab7679658"
      },
      "outputs": [
        {
          "name": "stdout",
          "output_type": "stream",
          "text": [
            "Mounted at /content/drive\n"
          ]
        }
      ],
      "source": [
        "from google.colab import drive\n",
        "drive.mount('/content/drive')"
      ]
    },
    {
      "cell_type": "code",
      "execution_count": 2,
      "metadata": {
        "colab": {
          "base_uri": "https://localhost:8080/"
        },
        "id": "YmixHCO7xMAj",
        "outputId": "9484c1ba-a97e-40d9-eef6-ef7b62c0399e"
      },
      "outputs": [
        {
          "name": "stdout",
          "output_type": "stream",
          "text": [
            "/content/drive/MyDrive/RETINAL\n"
          ]
        }
      ],
      "source": [
        "%cd drive/MyDrive/RETINAL/"
      ]
    },
    {
      "cell_type": "code",
      "execution_count": 8,
      "metadata": {
        "colab": {
          "base_uri": "https://localhost:8080/"
        },
        "id": "tKBiKUhv7P7k",
        "outputId": "75d94840-2b58-45b8-b9e1-b230101aa725"
      },
      "outputs": [
        {
          "name": "stdout",
          "output_type": "stream",
          "text": [
            "augment.ipynb  models\ttest\t  training\tunet-2.ipynb\n",
            "files\t       outputs\ttest.zip  training.zip\tunet.ipynb\n"
          ]
        }
      ],
      "source": [
        "!ls"
      ]
    },
    {
      "cell_type": "code",
      "execution_count": 13,
      "metadata": {
        "colab": {
          "base_uri": "https://localhost:8080/"
        },
        "id": "DGSO-WpZxrEE",
        "outputId": "3d832a2e-953e-461d-97d2-ddbec3f29c36"
      },
      "outputs": [],
      "source": [
        "import os\n",
        "import numpy as np\n",
        "import cv2\n",
        "from glob import glob\n",
        "from tqdm import tqdm\n",
        "import imageio\n",
        "from albumentations import HorizontalFlip, VerticalFlip, Rotate, RandomBrightnessContrast\n",
        "\n",
        "def create_dir(path):\n",
        "    if not os.path.exists(path):\n",
        "        os.makedirs(path)\n",
        "\n",
        "def load_data(path):\n",
        "    train_x = sorted(glob(os.path.join(path, \"training\", \"images\", \"*.tif\")))\n",
        "    train_y = sorted(glob(os.path.join(path, \"training\", \"1st_manual\", \"*.gif\")))\n",
        "\n",
        "    test_x = sorted(glob(os.path.join(path, \"test\", \"images\", \"*.tif\")))\n",
        "    test_y = sorted(glob(os.path.join(path, \"test\", \"1st_manual\", \"*.gif\")))\n",
        "\n",
        "    return (train_x, train_y), (test_x, test_y)\n",
        "\n",
        "def augment_data(images, masks, save_path, index=0, augment:bool=True):\n",
        "    size = (512, 512)\n",
        "\n",
        "    for idx, (x, y) in tqdm(enumerate(zip(images, masks)), total=len(images)):\n",
        "        \"\"\" Extracting the name \"\"\"\n",
        "        name = x.split(\"/\")[-1].split(\".\")[0]\n",
        "\n",
        "        \"\"\" Reading image and mask \"\"\"\n",
        "        x = cv2.imread(x, cv2.IMREAD_COLOR)\n",
        "        y = imageio.mimread(y)[0]\n",
        "\n",
        "        if augment:\n",
        "            aug = HorizontalFlip(p=0.3)\n",
        "            augmented = aug(image=x, mask=y)\n",
        "            x1 = augmented[\"image\"]\n",
        "            y1 = augmented[\"mask\"]\n",
        "\n",
        "            aug = VerticalFlip(p=0.3)\n",
        "            augmented = aug(image=x1, mask=y1)\n",
        "            x2 = augmented[\"image\"]\n",
        "            y2 = augmented[\"mask\"]\n",
        "\n",
        "            aug = Rotate(limit=45, p=0.9)\n",
        "            augmented = aug(image=x2, mask=y2)\n",
        "            x3 = augmented[\"image\"]\n",
        "            y3 = augmented[\"mask\"]\n",
        "\n",
        "            aug = RandomBrightnessContrast(p=0.2)\n",
        "            augmented = aug(image=x3, mask=y3)\n",
        "            x4 = augmented[\"image\"]\n",
        "            y4 = augmented[\"mask\"]\n",
        "\n",
        "            X = [x4]\n",
        "            Y = [y4]\n",
        "\n",
        "        else:\n",
        "            X = [x]\n",
        "            Y = [y]\n",
        "\n",
        "        for i, m in zip(X, Y):\n",
        "            i = cv2.resize(i, size)\n",
        "            m = cv2.resize(m, size)\n",
        "\n",
        "            tmp_image_name = f\"{name}_{index}.png\"\n",
        "            tmp_mask_name = f\"{name}_{index}.png\"\n",
        "\n",
        "            image_path = os.path.join(save_path, \"image\", tmp_image_name)\n",
        "            mask_path = os.path.join(save_path, \"mask\", tmp_mask_name)\n",
        "\n",
        "            cv2.imwrite(image_path, i)\n",
        "            cv2.imwrite(mask_path, m)"
      ]
    },
    {
      "cell_type": "code",
      "execution_count": null,
      "metadata": {},
      "outputs": [],
      "source": [
        "\"\"\" Seeding \"\"\"\n",
        "np.random.seed(42)\n",
        "\n",
        "\"\"\" Load the data \"\"\"\n",
        "data_path = \"./\"\n",
        "(train_x, train_y), (test_x, test_y) = load_data(data_path)\n",
        "\n",
        "print(f\"Train: {len(train_x)} - {len(train_y)}\")\n",
        "print(f\"Test: {len(test_x)} - {len(test_y)}\")\n",
        "\n",
        "\"\"\" Create directories to save the augmented data \"\"\"\n",
        "create_dir(\"new_data/train/image/\")\n",
        "create_dir(\"new_data/train/mask/\")\n",
        "create_dir(\"new_data/test/image/\")\n",
        "create_dir(\"new_data/test/mask/\")\n",
        "\n",
        "\"\"\" Data augmentation \"\"\"\n",
        "for i in range(20):\n",
        "  augment_data(train_x, train_y, \"new_data/train/\", index=i, augment=True)\n",
        "\n",
        "augment_data(test_x, test_y, \"new_data/test/\", index=0, augment=False)"
      ]
    },
    {
      "cell_type": "code",
      "execution_count": 11,
      "metadata": {
        "colab": {
          "base_uri": "https://localhost:8080/"
        },
        "id": "R4QTUMPe3i__",
        "outputId": "36d019f5-6f9e-4d03-8bc2-ba38bc61e0ee"
      },
      "outputs": [
        {
          "name": "stdout",
          "output_type": "stream",
          "text": [
            "01_test_0.png  05_test_0.png  09_test_0.png  13_test_0.png  17_test_0.png\n",
            "02_test_0.png  06_test_0.png  10_test_0.png  14_test_0.png  18_test_0.png\n",
            "03_test_0.png  07_test_0.png  11_test_0.png  15_test_0.png  19_test_0.png\n",
            "04_test_0.png  08_test_0.png  12_test_0.png  16_test_0.png  20_test_0.png\n"
          ]
        }
      ],
      "source": [
        "%ls new_data/test/image"
      ]
    },
    {
      "cell_type": "code",
      "execution_count": null,
      "metadata": {
        "id": "0I8V8E7ElUqJ"
      },
      "outputs": [],
      "source": []
    }
  ],
  "metadata": {
    "colab": {
      "provenance": []
    },
    "kernelspec": {
      "display_name": "Python 3",
      "name": "python3"
    },
    "language_info": {
      "codemirror_mode": {
        "name": "ipython",
        "version": 3
      },
      "file_extension": ".py",
      "mimetype": "text/x-python",
      "name": "python",
      "nbconvert_exporter": "python",
      "pygments_lexer": "ipython3",
      "version": "3.11.6"
    }
  },
  "nbformat": 4,
  "nbformat_minor": 0
}
